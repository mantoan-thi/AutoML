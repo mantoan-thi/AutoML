{
  "nbformat": 4,
  "nbformat_minor": 0,
  "metadata": {
    "colab": {
      "name": "Day Trading with Machine Learning (witn H2O - AutoML: Automatic Machine Learning).ipynb",
      "provenance": [],
      "authorship_tag": "ABX9TyP8NU+kG45Wt1onTCeQ8qXN",
      "include_colab_link": true
    },
    "kernelspec": {
      "name": "python3",
      "display_name": "Python 3"
    },
    "language_info": {
      "name": "python"
    }
  },
  "cells": [
    {
      "cell_type": "markdown",
      "metadata": {
        "id": "view-in-github",
        "colab_type": "text"
      },
      "source": [
        "<a href=\"https://colab.research.google.com/github/mantoan-thi/AutoML/blob/main/Day_Trading_with_Machine_Learning_(witn_H2O_AutoML_Automatic_Machine_Learning).ipynb\" target=\"_parent\"><img src=\"https://colab.research.google.com/assets/colab-badge.svg\" alt=\"Open In Colab\"/></a>"
      ]
    },
    {
      "cell_type": "markdown",
      "metadata": {
        "id": "8dTMoV7pLIa7"
      },
      "source": [
        "# Instalações"
      ]
    },
    {
      "cell_type": "code",
      "metadata": {
        "id": "SnWqFzs5LUze",
        "colab": {
          "base_uri": "https://localhost:8080/"
        },
        "outputId": "c12a909a-4722-4f86-c383-e5891312ab74"
      },
      "source": [
        "!pip install h2o"
      ],
      "execution_count": 1,
      "outputs": [
        {
          "output_type": "stream",
          "name": "stdout",
          "text": [
            "Collecting h2o\n",
            "  Downloading h2o-3.34.0.1.tar.gz (175.8 MB)\n",
            "\u001b[K     |████████████████████████████████| 175.8 MB 35 kB/s \n",
            "\u001b[?25hRequirement already satisfied: requests in /usr/local/lib/python3.7/dist-packages (from h2o) (2.23.0)\n",
            "Requirement already satisfied: tabulate in /usr/local/lib/python3.7/dist-packages (from h2o) (0.8.9)\n",
            "Requirement already satisfied: future in /usr/local/lib/python3.7/dist-packages (from h2o) (0.16.0)\n",
            "Requirement already satisfied: chardet<4,>=3.0.2 in /usr/local/lib/python3.7/dist-packages (from requests->h2o) (3.0.4)\n",
            "Requirement already satisfied: urllib3!=1.25.0,!=1.25.1,<1.26,>=1.21.1 in /usr/local/lib/python3.7/dist-packages (from requests->h2o) (1.24.3)\n",
            "Requirement already satisfied: idna<3,>=2.5 in /usr/local/lib/python3.7/dist-packages (from requests->h2o) (2.10)\n",
            "Requirement already satisfied: certifi>=2017.4.17 in /usr/local/lib/python3.7/dist-packages (from requests->h2o) (2021.5.30)\n",
            "Building wheels for collected packages: h2o\n",
            "  Building wheel for h2o (setup.py) ... \u001b[?25l\u001b[?25hdone\n",
            "  Created wheel for h2o: filename=h2o-3.34.0.1-py2.py3-none-any.whl size=175823552 sha256=3d40dcfad75ba24ea9d826a905c78e05a813f508b964b2194bc8cffec89cfbc5\n",
            "  Stored in directory: /root/.cache/pip/wheels/5c/7b/60/014a2b6d009793271276a9a41cb954659c8f23b8823ca21625\n",
            "Successfully built h2o\n",
            "Installing collected packages: h2o\n",
            "Successfully installed h2o-3.34.0.1\n"
          ]
        }
      ]
    },
    {
      "cell_type": "code",
      "metadata": {
        "id": "VzrzJjg17xcv",
        "colab": {
          "base_uri": "https://localhost:8080/"
        },
        "outputId": "33e5bde2-2c59-42ee-b54c-e494fb8b2333"
      },
      "source": [
        "!pip install yfinance --upgrade --no-cache-dir"
      ],
      "execution_count": 2,
      "outputs": [
        {
          "output_type": "stream",
          "name": "stdout",
          "text": [
            "Collecting yfinance\n",
            "  Downloading yfinance-0.1.63.tar.gz (26 kB)\n",
            "Requirement already satisfied: pandas>=0.24 in /usr/local/lib/python3.7/dist-packages (from yfinance) (1.1.5)\n",
            "Requirement already satisfied: numpy>=1.15 in /usr/local/lib/python3.7/dist-packages (from yfinance) (1.19.5)\n",
            "Requirement already satisfied: requests>=2.20 in /usr/local/lib/python3.7/dist-packages (from yfinance) (2.23.0)\n",
            "Requirement already satisfied: multitasking>=0.0.7 in /usr/local/lib/python3.7/dist-packages (from yfinance) (0.0.9)\n",
            "Collecting lxml>=4.5.1\n",
            "  Downloading lxml-4.6.3-cp37-cp37m-manylinux2014_x86_64.whl (6.3 MB)\n",
            "\u001b[K     |████████████████████████████████| 6.3 MB 5.4 MB/s \n",
            "\u001b[?25hRequirement already satisfied: pytz>=2017.2 in /usr/local/lib/python3.7/dist-packages (from pandas>=0.24->yfinance) (2018.9)\n",
            "Requirement already satisfied: python-dateutil>=2.7.3 in /usr/local/lib/python3.7/dist-packages (from pandas>=0.24->yfinance) (2.8.2)\n",
            "Requirement already satisfied: six>=1.5 in /usr/local/lib/python3.7/dist-packages (from python-dateutil>=2.7.3->pandas>=0.24->yfinance) (1.15.0)\n",
            "Requirement already satisfied: idna<3,>=2.5 in /usr/local/lib/python3.7/dist-packages (from requests>=2.20->yfinance) (2.10)\n",
            "Requirement already satisfied: certifi>=2017.4.17 in /usr/local/lib/python3.7/dist-packages (from requests>=2.20->yfinance) (2021.5.30)\n",
            "Requirement already satisfied: urllib3!=1.25.0,!=1.25.1,<1.26,>=1.21.1 in /usr/local/lib/python3.7/dist-packages (from requests>=2.20->yfinance) (1.24.3)\n",
            "Requirement already satisfied: chardet<4,>=3.0.2 in /usr/local/lib/python3.7/dist-packages (from requests>=2.20->yfinance) (3.0.4)\n",
            "Building wheels for collected packages: yfinance\n",
            "  Building wheel for yfinance (setup.py) ... \u001b[?25l\u001b[?25hdone\n",
            "  Created wheel for yfinance: filename=yfinance-0.1.63-py2.py3-none-any.whl size=23918 sha256=cd22044c59912288fa96065ffefe66876a2991d9c19a30ca1725b4b49df4ef59\n",
            "  Stored in directory: /tmp/pip-ephem-wheel-cache-ir0ibt72/wheels/fe/87/8b/7ec24486e001d3926537f5f7801f57a74d181be25b11157983\n",
            "Successfully built yfinance\n",
            "Installing collected packages: lxml, yfinance\n",
            "  Attempting uninstall: lxml\n",
            "    Found existing installation: lxml 4.2.6\n",
            "    Uninstalling lxml-4.2.6:\n",
            "      Successfully uninstalled lxml-4.2.6\n",
            "Successfully installed lxml-4.6.3 yfinance-0.1.63\n"
          ]
        }
      ]
    },
    {
      "cell_type": "markdown",
      "metadata": {
        "id": "w9exkn9jLZxn"
      },
      "source": [
        "# Importando as bibliotecas"
      ]
    },
    {
      "cell_type": "code",
      "metadata": {
        "id": "TJlnfrcgLqzW"
      },
      "source": [
        "import pandas as pd\n",
        "import h2o\n",
        "from h2o.automl import H2OAutoML"
      ],
      "execution_count": 3,
      "outputs": []
    },
    {
      "cell_type": "markdown",
      "metadata": {
        "id": "VfVJD5I3xXur"
      },
      "source": [
        "# Treinando o modelo"
      ]
    },
    {
      "cell_type": "code",
      "metadata": {
        "id": "__iz5UhcrlLR"
      },
      "source": [
        "def processar(dados, cls,tm):\n",
        "  data = dados\n",
        "  classe = cls\n",
        "  tempo_maximo = tm\n",
        "  h2o.init()\n",
        "  # Identifica dinamicamente as colunas do arquivo csv\n",
        "  colunas = data.columns.tolist()\n",
        "  variaveis_independentes = [coluna for coluna in colunas if coluna != classe]\n",
        "\n",
        "  # Divide os dados em treino e teste\n",
        "  data = h2o.H2OFrame(data)\n",
        "  treino, teste = data.split_frame(ratios=[.7])\n",
        "\n",
        "  # Transforma a variavel dependente em fator\n",
        "  treino[classe] = treino[classe].asfactor()\n",
        "  teste[classe] = teste[classe].asfactor()\n",
        "\n",
        "  # Auto ML\n",
        "  # Busca o modelo valor gravado no atributo tempo_maximo em segundos. podemos em vez disso definir max_models\n",
        "  modelo_automl = H2OAutoML(max_runtime_secs=tempo_maximo,sort_metric='AUC')\n",
        "  #modelo_automl = H2OAutoML(max_models=20, seed=1)\n",
        "  modelo_automl.train(y=classe, training_frame=treino)\n",
        "\n",
        "  # Ranking dos melhores AutoML\n",
        "  ranking = modelo_automl.leaderboard\n",
        "  #ranking = ranking.as_data_frame()\n",
        "\n",
        "  # Imprime todas as linhas em vez do padrão (10 linhas)\n",
        "  ranking.head(rows=ranking.nrows)\n",
        "\n",
        "  # O modelo líder é armazenado aqui\n",
        "  modelo_automl.leader\n",
        "\n",
        "  return ranking, modelo_automl,treino,teste"
      ],
      "execution_count": 4,
      "outputs": []
    },
    {
      "cell_type": "code",
      "metadata": {
        "id": "ACD76F5wvbWB"
      },
      "source": [
        "def prever(aml, dados_test):\n",
        "  # Para gerar previsões em um conjunto de teste, você pode fazer previsões\n",
        "  # diretamente no objeto `H2OAutoML` ou no modelo líder\n",
        "  # objeto diretamente\n",
        "  preds = aml.predict(dados_test)\n",
        "\n",
        "  # ou:\n",
        "  #preds = aml.leader.predict(dados_test)\n",
        "  return preds"
      ],
      "execution_count": 5,
      "outputs": []
    },
    {
      "cell_type": "markdown",
      "metadata": {
        "id": "PcqtysXDxjA_"
      },
      "source": [
        "# Coletando e processando dados da Bolsa"
      ]
    },
    {
      "cell_type": "markdown",
      "metadata": {
        "id": "nQUXBVcz7Q1Z"
      },
      "source": [
        "importando as bibliotecas"
      ]
    },
    {
      "cell_type": "code",
      "metadata": {
        "id": "MxskZQ8R7UMk"
      },
      "source": [
        "import yfinance as yf #Instalando e importando a API no código"
      ],
      "execution_count": 6,
      "outputs": []
    },
    {
      "cell_type": "markdown",
      "metadata": {
        "id": "8WB06N_V7Y7n"
      },
      "source": [
        "Coletando e processando"
      ]
    },
    {
      "cell_type": "code",
      "metadata": {
        "id": "OjodwTI_7WwT"
      },
      "source": [
        "def coletar_dados(ativo,inicio,fim):\n",
        "    df = yf.download(ativo, start=inicio, end=fim)\n",
        "    df2 = df.copy()\n",
        "    df.reset_index(inplace=True)\n",
        "    df['Tendencia_3d'] = (df['Close'].shift(-1)-df['Open'].shift(-1))+(df['Close'].shift(-2)-df['Open'].shift(-2))+(df['Close'].shift(-3)-df['Open'].shift(-3))\n",
        "    df['Low_open'] = df.Low-df.Open\n",
        "    df['High_open'] = df.High-df.Open\n",
        "    df['Variação'] = df['Adj Close'].pct_change()\n",
        "    df.dropna(inplace=True)\n",
        "    df.drop(columns=['Date'],axis=1, inplace=True)\n",
        "    df['Dir'] = df.apply(lambda x: 1 if x['Tendencia_3d'] > 0 else 0, axis=1)\n",
        "    return df,df2"
      ],
      "execution_count": 22,
      "outputs": []
    },
    {
      "cell_type": "markdown",
      "metadata": {
        "id": "YP48Jjq_7pTO"
      },
      "source": [
        "Coletando dados do ITAU4"
      ]
    },
    {
      "cell_type": "code",
      "metadata": {
        "colab": {
          "base_uri": "https://localhost:8080/"
        },
        "id": "MGWMyLPO7kR7",
        "outputId": "9ef28db4-a0a9-4b66-98be-0c288ba984d9"
      },
      "source": [
        "dados = coletar_dados('ITUB4.SA',\"2009-01-01\",\"2021-04-30\")"
      ],
      "execution_count": 19,
      "outputs": [
        {
          "output_type": "stream",
          "name": "stdout",
          "text": [
            "\r[*********************100%***********************]  1 of 1 completed\n"
          ]
        }
      ]
    },
    {
      "cell_type": "code",
      "metadata": {
        "colab": {
          "base_uri": "https://localhost:8080/"
        },
        "id": "KJL4oSDDyhUq",
        "outputId": "243d465b-df3b-40a0-ae94-c46bb8c133ee"
      },
      "source": [
        "dados.shape"
      ],
      "execution_count": 10,
      "outputs": [
        {
          "output_type": "execute_result",
          "data": {
            "text/plain": [
              "(3041, 11)"
            ]
          },
          "metadata": {},
          "execution_count": 10
        }
      ]
    },
    {
      "cell_type": "code",
      "metadata": {
        "colab": {
          "base_uri": "https://localhost:8080/"
        },
        "id": "0HbQSYFP_P_H",
        "outputId": "40dc5f40-ff96-41ab-8c71-cf1080d16d36"
      },
      "source": [
        "# Colunas\n",
        "dados.columns"
      ],
      "execution_count": 11,
      "outputs": [
        {
          "output_type": "execute_result",
          "data": {
            "text/plain": [
              "Index(['Open', 'High', 'Low', 'Close', 'Adj Close', 'Volume', 'Tendencia_3d',\n",
              "       'Low_open', 'High_open', 'Variação', 'Dir'],\n",
              "      dtype='object')"
            ]
          },
          "metadata": {},
          "execution_count": 11
        }
      ]
    },
    {
      "cell_type": "code",
      "metadata": {
        "colab": {
          "base_uri": "https://localhost:8080/",
          "height": 550
        },
        "id": "XaEcR801sGn5",
        "outputId": "629757ed-c61d-466a-d445-853d6b37b52e"
      },
      "source": [
        "# Iremos pegar a coluna Dir\n",
        "cls = 'Dir'\n",
        "ranking, modelo_automl,treino,teste = processar(dados,cls,60)"
      ],
      "execution_count": 12,
      "outputs": [
        {
          "output_type": "stream",
          "name": "stdout",
          "text": [
            "Checking whether there is an H2O instance running at http://localhost:54321 ..... not found.\n",
            "Attempting to start a local H2O server...\n",
            "  Java Version: openjdk version \"11.0.11\" 2021-04-20; OpenJDK Runtime Environment (build 11.0.11+9-Ubuntu-0ubuntu2.18.04); OpenJDK 64-Bit Server VM (build 11.0.11+9-Ubuntu-0ubuntu2.18.04, mixed mode, sharing)\n",
            "  Starting server from /usr/local/lib/python3.7/dist-packages/h2o/backend/bin/h2o.jar\n",
            "  Ice root: /tmp/tmpqepq7trr\n",
            "  JVM stdout: /tmp/tmpqepq7trr/h2o_unknownUser_started_from_python.out\n",
            "  JVM stderr: /tmp/tmpqepq7trr/h2o_unknownUser_started_from_python.err\n",
            "  Server is running at http://127.0.0.1:54321\n",
            "Connecting to H2O server at http://127.0.0.1:54321 ... successful.\n"
          ]
        },
        {
          "output_type": "display_data",
          "data": {
            "text/html": [
              "<div style=\"overflow:auto\"><table style=\"width:50%\"><tr><td>H2O_cluster_uptime:</td>\n",
              "<td>03 secs</td></tr>\n",
              "<tr><td>H2O_cluster_timezone:</td>\n",
              "<td>Etc/UTC</td></tr>\n",
              "<tr><td>H2O_data_parsing_timezone:</td>\n",
              "<td>UTC</td></tr>\n",
              "<tr><td>H2O_cluster_version:</td>\n",
              "<td>3.34.0.1</td></tr>\n",
              "<tr><td>H2O_cluster_version_age:</td>\n",
              "<td>6 days </td></tr>\n",
              "<tr><td>H2O_cluster_name:</td>\n",
              "<td>H2O_from_python_unknownUser_vct2fo</td></tr>\n",
              "<tr><td>H2O_cluster_total_nodes:</td>\n",
              "<td>1</td></tr>\n",
              "<tr><td>H2O_cluster_free_memory:</td>\n",
              "<td>3.172 Gb</td></tr>\n",
              "<tr><td>H2O_cluster_total_cores:</td>\n",
              "<td>2</td></tr>\n",
              "<tr><td>H2O_cluster_allowed_cores:</td>\n",
              "<td>2</td></tr>\n",
              "<tr><td>H2O_cluster_status:</td>\n",
              "<td>locked, healthy</td></tr>\n",
              "<tr><td>H2O_connection_url:</td>\n",
              "<td>http://127.0.0.1:54321</td></tr>\n",
              "<tr><td>H2O_connection_proxy:</td>\n",
              "<td>{\"http\": null, \"https\": null}</td></tr>\n",
              "<tr><td>H2O_internal_security:</td>\n",
              "<td>False</td></tr>\n",
              "<tr><td>H2O_API_Extensions:</td>\n",
              "<td>Amazon S3, XGBoost, Algos, AutoML, Core V3, TargetEncoder, Core V4</td></tr>\n",
              "<tr><td>Python_version:</td>\n",
              "<td>3.7.12 final</td></tr></table></div>"
            ],
            "text/plain": [
              "--------------------------  ------------------------------------------------------------------\n",
              "H2O_cluster_uptime:         03 secs\n",
              "H2O_cluster_timezone:       Etc/UTC\n",
              "H2O_data_parsing_timezone:  UTC\n",
              "H2O_cluster_version:        3.34.0.1\n",
              "H2O_cluster_version_age:    6 days\n",
              "H2O_cluster_name:           H2O_from_python_unknownUser_vct2fo\n",
              "H2O_cluster_total_nodes:    1\n",
              "H2O_cluster_free_memory:    3.172 Gb\n",
              "H2O_cluster_total_cores:    2\n",
              "H2O_cluster_allowed_cores:  2\n",
              "H2O_cluster_status:         locked, healthy\n",
              "H2O_connection_url:         http://127.0.0.1:54321\n",
              "H2O_connection_proxy:       {\"http\": null, \"https\": null}\n",
              "H2O_internal_security:      False\n",
              "H2O_API_Extensions:         Amazon S3, XGBoost, Algos, AutoML, Core V3, TargetEncoder, Core V4\n",
              "Python_version:             3.7.12 final\n",
              "--------------------------  ------------------------------------------------------------------"
            ]
          },
          "metadata": {}
        },
        {
          "output_type": "stream",
          "name": "stdout",
          "text": [
            "Parse progress: |████████████████████████████████████████████████████████████████| (done) 100%\n",
            "AutoML progress: |███████████████████████████████████████████████████████████████| (done) 100%\n"
          ]
        }
      ]
    },
    {
      "cell_type": "code",
      "metadata": {
        "colab": {
          "base_uri": "https://localhost:8080/",
          "height": 304
        },
        "id": "bdlr_1Hwxt7e",
        "outputId": "62bdfdd9-9039-4e4f-d067-095cbb330284"
      },
      "source": [
        "# Ranking\n",
        "ranking"
      ],
      "execution_count": 13,
      "outputs": [
        {
          "output_type": "display_data",
          "data": {
            "text/html": [
              "<table>\n",
              "<thead>\n",
              "<tr><th>model_id                                               </th><th style=\"text-align: right;\">     auc</th><th style=\"text-align: right;\">   logloss</th><th style=\"text-align: right;\">   aucpr</th><th style=\"text-align: right;\">  mean_per_class_error</th><th style=\"text-align: right;\">     rmse</th><th style=\"text-align: right;\">        mse</th></tr>\n",
              "</thead>\n",
              "<tbody>\n",
              "<tr><td>StackedEnsemble_AllModels_1_AutoML_1_20210920_211817   </td><td style=\"text-align: right;\">1       </td><td style=\"text-align: right;\">0.00343861</td><td style=\"text-align: right;\">1       </td><td style=\"text-align: right;\">           0          </td><td style=\"text-align: right;\">0.0255555</td><td style=\"text-align: right;\">0.000653086</td></tr>\n",
              "<tr><td>XGBoost_2_AutoML_1_20210920_211817                     </td><td style=\"text-align: right;\">1       </td><td style=\"text-align: right;\">0.00993303</td><td style=\"text-align: right;\">1       </td><td style=\"text-align: right;\">           0          </td><td style=\"text-align: right;\">0.01234  </td><td style=\"text-align: right;\">0.000152275</td></tr>\n",
              "<tr><td>StackedEnsemble_BestOfFamily_2_AutoML_1_20210920_211817</td><td style=\"text-align: right;\">1       </td><td style=\"text-align: right;\">0.00340326</td><td style=\"text-align: right;\">1       </td><td style=\"text-align: right;\">           0          </td><td style=\"text-align: right;\">0.0253579</td><td style=\"text-align: right;\">0.000643021</td></tr>\n",
              "<tr><td>XGBoost_1_AutoML_1_20210920_211817                     </td><td style=\"text-align: right;\">1       </td><td style=\"text-align: right;\">0.0197673 </td><td style=\"text-align: right;\">1       </td><td style=\"text-align: right;\">           0          </td><td style=\"text-align: right;\">0.0277952</td><td style=\"text-align: right;\">0.000772576</td></tr>\n",
              "<tr><td>StackedEnsemble_BestOfFamily_1_AutoML_1_20210920_211817</td><td style=\"text-align: right;\">0.999987</td><td style=\"text-align: right;\">0.00440107</td><td style=\"text-align: right;\">0.999987</td><td style=\"text-align: right;\">           0.000959693</td><td style=\"text-align: right;\">0.0300626</td><td style=\"text-align: right;\">0.00090376 </td></tr>\n",
              "<tr><td>GBM_1_AutoML_1_20210920_211817                         </td><td style=\"text-align: right;\">0.999985</td><td style=\"text-align: right;\">0.00374587</td><td style=\"text-align: right;\">0.999985</td><td style=\"text-align: right;\">           0.000959693</td><td style=\"text-align: right;\">0.0306237</td><td style=\"text-align: right;\">0.000937812</td></tr>\n",
              "<tr><td>GLM_1_AutoML_1_20210920_211817                         </td><td style=\"text-align: right;\">0.999959</td><td style=\"text-align: right;\">0.0379737 </td><td style=\"text-align: right;\">0.99996 </td><td style=\"text-align: right;\">           0.00335893 </td><td style=\"text-align: right;\">0.0958093</td><td style=\"text-align: right;\">0.00917942 </td></tr>\n",
              "<tr><td>GBM_4_AutoML_1_20210920_211817                         </td><td style=\"text-align: right;\">0.999905</td><td style=\"text-align: right;\">0.0374697 </td><td style=\"text-align: right;\">0.999913</td><td style=\"text-align: right;\">           0.000959693</td><td style=\"text-align: right;\">0.0483237</td><td style=\"text-align: right;\">0.00233518 </td></tr>\n",
              "<tr><td>DRF_1_AutoML_1_20210920_211817                         </td><td style=\"text-align: right;\">0.99979 </td><td style=\"text-align: right;\">0.0285302 </td><td style=\"text-align: right;\">0.999814</td><td style=\"text-align: right;\">           0.000959693</td><td style=\"text-align: right;\">0.0536384</td><td style=\"text-align: right;\">0.00287707 </td></tr>\n",
              "<tr><td>GBM_2_AutoML_1_20210920_211817                         </td><td style=\"text-align: right;\">0.999714</td><td style=\"text-align: right;\">0.0362193 </td><td style=\"text-align: right;\">0.999777</td><td style=\"text-align: right;\">           0.000959693</td><td style=\"text-align: right;\">0.047342 </td><td style=\"text-align: right;\">0.00224126 </td></tr>\n",
              "<tr><td>GBM_3_AutoML_1_20210920_211817                         </td><td style=\"text-align: right;\">0.999609</td><td style=\"text-align: right;\">0.0328445 </td><td style=\"text-align: right;\">0.999712</td><td style=\"text-align: right;\">           0.000959693</td><td style=\"text-align: right;\">0.0449425</td><td style=\"text-align: right;\">0.00201983 </td></tr>\n",
              "<tr><td>XGBoost_3_AutoML_1_20210920_211817                     </td><td style=\"text-align: right;\">0.999353</td><td style=\"text-align: right;\">0.439022  </td><td style=\"text-align: right;\">0.999614</td><td style=\"text-align: right;\">           0.000479846</td><td style=\"text-align: right;\">0.35552  </td><td style=\"text-align: right;\">0.126394   </td></tr>\n",
              "<tr><td>XRT_1_AutoML_1_20210920_211817                         </td><td style=\"text-align: right;\">0.982726</td><td style=\"text-align: right;\">0.596639  </td><td style=\"text-align: right;\">0.979507</td><td style=\"text-align: right;\">           0.0172745  </td><td style=\"text-align: right;\">0.131432 </td><td style=\"text-align: right;\">0.0172745  </td></tr>\n",
              "</tbody>\n",
              "</table>"
            ]
          },
          "metadata": {}
        },
        {
          "output_type": "execute_result",
          "data": {
            "text/plain": [
              ""
            ]
          },
          "metadata": {},
          "execution_count": 13
        }
      ]
    },
    {
      "cell_type": "code",
      "metadata": {
        "colab": {
          "base_uri": "https://localhost:8080/",
          "height": 243
        },
        "id": "GRiwt6vKyW8O",
        "outputId": "efc8a16b-276c-421f-dc2d-85930b281afe"
      },
      "source": [
        "# Test\n",
        "teste"
      ],
      "execution_count": 14,
      "outputs": [
        {
          "output_type": "display_data",
          "data": {
            "text/html": [
              "<table>\n",
              "<thead>\n",
              "<tr><th style=\"text-align: right;\">    Open</th><th style=\"text-align: right;\">    High</th><th style=\"text-align: right;\">     Low</th><th style=\"text-align: right;\">   Close</th><th style=\"text-align: right;\">  Adj Close</th><th style=\"text-align: right;\">     Volume</th><th style=\"text-align: right;\">  Tendencia_3d</th><th style=\"text-align: right;\">  Low_open</th><th style=\"text-align: right;\">  High_open</th><th style=\"text-align: right;\">   Variação</th><th style=\"text-align: right;\">  Dir</th></tr>\n",
              "</thead>\n",
              "<tbody>\n",
              "<tr><td style=\"text-align: right;\">11.901  </td><td style=\"text-align: right;\">12.1701 </td><td style=\"text-align: right;\">11.6361 </td><td style=\"text-align: right;\">11.9838 </td><td style=\"text-align: right;\">    7.56228</td><td style=\"text-align: right;\">8.66486e+06</td><td style=\"text-align: right;\">     0.0703707</td><td style=\"text-align: right;\"> -0.264928</td><td style=\"text-align: right;\">  0.269065 </td><td style=\"text-align: right;\"> 0.00242369</td><td style=\"text-align: right;\">    1</td></tr>\n",
              "<tr><td style=\"text-align: right;\">12.2156 </td><td style=\"text-align: right;\">12.3563 </td><td style=\"text-align: right;\">11.6982 </td><td style=\"text-align: right;\">11.7602 </td><td style=\"text-align: right;\">    7.42123</td><td style=\"text-align: right;\">7.5611e+06 </td><td style=\"text-align: right;\">    -0.25665  </td><td style=\"text-align: right;\"> -0.517435</td><td style=\"text-align: right;\">  0.140741 </td><td style=\"text-align: right;\">-0.0573985 </td><td style=\"text-align: right;\">    0</td></tr>\n",
              "<tr><td style=\"text-align: right;\">11.7354 </td><td style=\"text-align: right;\">11.9465 </td><td style=\"text-align: right;\">11.5905 </td><td style=\"text-align: right;\">11.8306 </td><td style=\"text-align: right;\">    7.46563</td><td style=\"text-align: right;\">7.25116e+06</td><td style=\"text-align: right;\">    -0.633342 </td><td style=\"text-align: right;\"> -0.144881</td><td style=\"text-align: right;\">  0.211113 </td><td style=\"text-align: right;\"> 0.0059828 </td><td style=\"text-align: right;\">    0</td></tr>\n",
              "<tr><td style=\"text-align: right;\">11.8472 </td><td style=\"text-align: right;\">11.9838 </td><td style=\"text-align: right;\">11.4663 </td><td style=\"text-align: right;\">11.8182 </td><td style=\"text-align: right;\">    7.4578 </td><td style=\"text-align: right;\">7.66377e+06</td><td style=\"text-align: right;\">    -1.33291  </td><td style=\"text-align: right;\"> -0.380832</td><td style=\"text-align: right;\">  0.136602 </td><td style=\"text-align: right;\">-0.00104908</td><td style=\"text-align: right;\">    0</td></tr>\n",
              "<tr><td style=\"text-align: right;\">11.1849 </td><td style=\"text-align: right;\">11.396  </td><td style=\"text-align: right;\">10.7916 </td><td style=\"text-align: right;\">10.9034 </td><td style=\"text-align: right;\">    6.88051</td><td style=\"text-align: right;\">1.22583e+07</td><td style=\"text-align: right;\">    -1.20873  </td><td style=\"text-align: right;\"> -0.39325 </td><td style=\"text-align: right;\">  0.211114 </td><td style=\"text-align: right;\">-0.0365761 </td><td style=\"text-align: right;\">    0</td></tr>\n",
              "<tr><td style=\"text-align: right;\">10.1417 </td><td style=\"text-align: right;\">10.4273 </td><td style=\"text-align: right;\"> 9.41731</td><td style=\"text-align: right;\">10.2659 </td><td style=\"text-align: right;\">    6.47823</td><td style=\"text-align: right;\">1.99414e+07</td><td style=\"text-align: right;\">    -1.13836  </td><td style=\"text-align: right;\"> -0.724408</td><td style=\"text-align: right;\">  0.285624 </td><td style=\"text-align: right;\"> 0.0180621 </td><td style=\"text-align: right;\">    0</td></tr>\n",
              "<tr><td style=\"text-align: right;\">10.5184 </td><td style=\"text-align: right;\">10.5557 </td><td style=\"text-align: right;\"> 9.72777</td><td style=\"text-align: right;\"> 9.91404</td><td style=\"text-align: right;\">    6.25619</td><td style=\"text-align: right;\">1.64886e+07</td><td style=\"text-align: right;\">    -0.347716 </td><td style=\"text-align: right;\"> -0.79064 </td><td style=\"text-align: right;\">  0.0372553</td><td style=\"text-align: right;\">-0.0342748 </td><td style=\"text-align: right;\">    0</td></tr>\n",
              "<tr><td style=\"text-align: right;\">10.0589 </td><td style=\"text-align: right;\">10.1334 </td><td style=\"text-align: right;\"> 9.91404</td><td style=\"text-align: right;\">10.0589 </td><td style=\"text-align: right;\">    6.34761</td><td style=\"text-align: right;\">5.36614e+06</td><td style=\"text-align: right;\">    -0.740967 </td><td style=\"text-align: right;\"> -0.144881</td><td style=\"text-align: right;\">  0.0745106</td><td style=\"text-align: right;\"> 0.0146137 </td><td style=\"text-align: right;\">    0</td></tr>\n",
              "<tr><td style=\"text-align: right;\"> 9.90576</td><td style=\"text-align: right;\">10.1955 </td><td style=\"text-align: right;\"> 9.37177</td><td style=\"text-align: right;\"> 9.37177</td><td style=\"text-align: right;\">    5.91399</td><td style=\"text-align: right;\">1.67628e+07</td><td style=\"text-align: right;\">     0.231809 </td><td style=\"text-align: right;\"> -0.533992</td><td style=\"text-align: right;\">  0.289764 </td><td style=\"text-align: right;\">-0.0683127 </td><td style=\"text-align: right;\">    1</td></tr>\n",
              "<tr><td style=\"text-align: right;\"> 9.5001 </td><td style=\"text-align: right;\"> 9.68637</td><td style=\"text-align: right;\"> 9.27656</td><td style=\"text-align: right;\"> 9.68637</td><td style=\"text-align: right;\">    6.11252</td><td style=\"text-align: right;\">1.86427e+07</td><td style=\"text-align: right;\">    -0.0703716</td><td style=\"text-align: right;\"> -0.223533</td><td style=\"text-align: right;\">  0.186275 </td><td style=\"text-align: right;\"> 0.0335696 </td><td style=\"text-align: right;\">    0</td></tr>\n",
              "</tbody>\n",
              "</table>"
            ]
          },
          "metadata": {}
        },
        {
          "output_type": "execute_result",
          "data": {
            "text/plain": [
              ""
            ]
          },
          "metadata": {},
          "execution_count": 14
        }
      ]
    },
    {
      "cell_type": "markdown",
      "metadata": {
        "id": "xlDTZuu51mui"
      },
      "source": [
        "# Fazendo previsões"
      ]
    },
    {
      "cell_type": "markdown",
      "metadata": {
        "id": "78tIuqdW1tlM"
      },
      "source": [
        "Testando com toda a base de dados"
      ]
    },
    {
      "cell_type": "code",
      "metadata": {
        "colab": {
          "base_uri": "https://localhost:8080/",
          "height": 260
        },
        "id": "8Xjz4Ikxy2mZ",
        "outputId": "badd076d-5d05-4352-f844-f181df389756"
      },
      "source": [
        "prever(modelo_automl,teste)"
      ],
      "execution_count": 15,
      "outputs": [
        {
          "output_type": "stream",
          "name": "stdout",
          "text": [
            "stackedensemble prediction progress: |███████████████████████████████████████████| (done) 100%\n"
          ]
        },
        {
          "output_type": "display_data",
          "data": {
            "text/html": [
              "<table>\n",
              "<thead>\n",
              "<tr><th style=\"text-align: right;\">  predict</th><th style=\"text-align: right;\">         p0</th><th style=\"text-align: right;\">         p1</th></tr>\n",
              "</thead>\n",
              "<tbody>\n",
              "<tr><td style=\"text-align: right;\">        1</td><td style=\"text-align: right;\">0.000798264</td><td style=\"text-align: right;\">0.999202   </td></tr>\n",
              "<tr><td style=\"text-align: right;\">        0</td><td style=\"text-align: right;\">0.999212   </td><td style=\"text-align: right;\">0.000787567</td></tr>\n",
              "<tr><td style=\"text-align: right;\">        0</td><td style=\"text-align: right;\">0.999599   </td><td style=\"text-align: right;\">0.000400525</td></tr>\n",
              "<tr><td style=\"text-align: right;\">        0</td><td style=\"text-align: right;\">0.999888   </td><td style=\"text-align: right;\">0.00011154 </td></tr>\n",
              "<tr><td style=\"text-align: right;\">        0</td><td style=\"text-align: right;\">0.999925   </td><td style=\"text-align: right;\">7.54579e-05</td></tr>\n",
              "<tr><td style=\"text-align: right;\">        0</td><td style=\"text-align: right;\">0.9999     </td><td style=\"text-align: right;\">9.99619e-05</td></tr>\n",
              "<tr><td style=\"text-align: right;\">        0</td><td style=\"text-align: right;\">0.999738   </td><td style=\"text-align: right;\">0.000262297</td></tr>\n",
              "<tr><td style=\"text-align: right;\">        0</td><td style=\"text-align: right;\">0.999818   </td><td style=\"text-align: right;\">0.000182486</td></tr>\n",
              "<tr><td style=\"text-align: right;\">        1</td><td style=\"text-align: right;\">0.000655242</td><td style=\"text-align: right;\">0.999345   </td></tr>\n",
              "<tr><td style=\"text-align: right;\">        0</td><td style=\"text-align: right;\">0.997864   </td><td style=\"text-align: right;\">0.00213636 </td></tr>\n",
              "</tbody>\n",
              "</table>"
            ]
          },
          "metadata": {}
        },
        {
          "output_type": "execute_result",
          "data": {
            "text/plain": [
              ""
            ]
          },
          "metadata": {},
          "execution_count": 15
        }
      ]
    },
    {
      "cell_type": "markdown",
      "metadata": {
        "id": "mQIWCOu213TF"
      },
      "source": [
        "Testando em apenas na primeira linha"
      ]
    },
    {
      "cell_type": "code",
      "metadata": {
        "colab": {
          "base_uri": "https://localhost:8080/",
          "height": 76
        },
        "id": "bZ6CBfP50qbz",
        "outputId": "e6392b31-81d1-4cfe-d5a0-724c8f70517c"
      },
      "source": [
        "prever(modelo_automl,teste[0:1,:])"
      ],
      "execution_count": 16,
      "outputs": [
        {
          "output_type": "stream",
          "name": "stdout",
          "text": [
            "stackedensemble prediction progress: |███████████████████████████████████████████| (done) 100%\n"
          ]
        },
        {
          "output_type": "display_data",
          "data": {
            "text/html": [
              "<table>\n",
              "<thead>\n",
              "<tr><th style=\"text-align: right;\">  predict</th><th style=\"text-align: right;\">         p0</th><th style=\"text-align: right;\">      p1</th></tr>\n",
              "</thead>\n",
              "<tbody>\n",
              "<tr><td style=\"text-align: right;\">        1</td><td style=\"text-align: right;\">0.000798264</td><td style=\"text-align: right;\">0.999202</td></tr>\n",
              "</tbody>\n",
              "</table>"
            ]
          },
          "metadata": {}
        },
        {
          "output_type": "execute_result",
          "data": {
            "text/plain": [
              ""
            ]
          },
          "metadata": {},
          "execution_count": 16
        }
      ]
    },
    {
      "cell_type": "markdown",
      "metadata": {
        "id": "aj32QbgB1-6H"
      },
      "source": [
        "# Conhecendo o Modelo"
      ]
    },
    {
      "cell_type": "code",
      "metadata": {
        "colab": {
          "base_uri": "https://localhost:8080/",
          "height": 1000
        },
        "id": "TQNkmNyHALF7",
        "outputId": "e80016ff-5562-49d9-f39f-58c0ca05f9ce"
      },
      "source": [
        "modelo_automl.leader"
      ],
      "execution_count": 17,
      "outputs": [
        {
          "output_type": "stream",
          "name": "stdout",
          "text": [
            "Model Details\n",
            "=============\n",
            "H2OStackedEnsembleEstimator :  Stacked Ensemble\n",
            "Model Key:  StackedEnsemble_AllModels_1_AutoML_1_20210920_211817\n",
            "\n",
            "No model summary for this model\n",
            "\n",
            "ModelMetricsBinomialGLM: stackedensemble\n",
            "** Reported on train data. **\n",
            "\n",
            "MSE: 3.626585831667453e-06\n",
            "RMSE: 0.001904359690727425\n",
            "LogLoss: 0.0005114664966812229\n",
            "Null degrees of freedom: 2083\n",
            "Residual degrees of freedom: 2079\n",
            "Null deviance: 2889.0374485737066\n",
            "Residual deviance: 2.1317923581673353\n",
            "AIC: 12.131792358167335\n",
            "AUC: 1.0\n",
            "AUCPR: 1.0\n",
            "Gini: 1.0\n",
            "\n",
            "Confusion Matrix (Act/Pred) for max f1 @ threshold = 0.9524289421364434: \n"
          ]
        },
        {
          "output_type": "display_data",
          "data": {
            "text/html": [
              "<div>\n",
              "<style scoped>\n",
              "    .dataframe tbody tr th:only-of-type {\n",
              "        vertical-align: middle;\n",
              "    }\n",
              "\n",
              "    .dataframe tbody tr th {\n",
              "        vertical-align: top;\n",
              "    }\n",
              "\n",
              "    .dataframe thead th {\n",
              "        text-align: right;\n",
              "    }\n",
              "</style>\n",
              "<table border=\"1\" class=\"dataframe\">\n",
              "  <thead>\n",
              "    <tr style=\"text-align: right;\">\n",
              "      <th></th>\n",
              "      <th></th>\n",
              "      <th>0</th>\n",
              "      <th>1</th>\n",
              "      <th>Error</th>\n",
              "      <th>Rate</th>\n",
              "    </tr>\n",
              "  </thead>\n",
              "  <tbody>\n",
              "    <tr>\n",
              "      <th>0</th>\n",
              "      <td>0</td>\n",
              "      <td>1042.0</td>\n",
              "      <td>0.0</td>\n",
              "      <td>0.0</td>\n",
              "      <td>(0.0/1042.0)</td>\n",
              "    </tr>\n",
              "    <tr>\n",
              "      <th>1</th>\n",
              "      <td>1</td>\n",
              "      <td>0.0</td>\n",
              "      <td>1042.0</td>\n",
              "      <td>0.0</td>\n",
              "      <td>(0.0/1042.0)</td>\n",
              "    </tr>\n",
              "    <tr>\n",
              "      <th>2</th>\n",
              "      <td>Total</td>\n",
              "      <td>1042.0</td>\n",
              "      <td>1042.0</td>\n",
              "      <td>0.0</td>\n",
              "      <td>(0.0/2084.0)</td>\n",
              "    </tr>\n",
              "  </tbody>\n",
              "</table>\n",
              "</div>"
            ],
            "text/plain": [
              "               0       1 Error           Rate\n",
              "0      0  1042.0     0.0   0.0   (0.0/1042.0)\n",
              "1      1     0.0  1042.0   0.0   (0.0/1042.0)\n",
              "2  Total  1042.0  1042.0   0.0   (0.0/2084.0)"
            ]
          },
          "metadata": {}
        },
        {
          "output_type": "stream",
          "name": "stdout",
          "text": [
            "\n",
            "Maximum Metrics: Maximum metrics at their respective thresholds\n"
          ]
        },
        {
          "output_type": "display_data",
          "data": {
            "text/html": [
              "<div>\n",
              "<style scoped>\n",
              "    .dataframe tbody tr th:only-of-type {\n",
              "        vertical-align: middle;\n",
              "    }\n",
              "\n",
              "    .dataframe tbody tr th {\n",
              "        vertical-align: top;\n",
              "    }\n",
              "\n",
              "    .dataframe thead th {\n",
              "        text-align: right;\n",
              "    }\n",
              "</style>\n",
              "<table border=\"1\" class=\"dataframe\">\n",
              "  <thead>\n",
              "    <tr style=\"text-align: right;\">\n",
              "      <th></th>\n",
              "      <th>metric</th>\n",
              "      <th>threshold</th>\n",
              "      <th>value</th>\n",
              "      <th>idx</th>\n",
              "    </tr>\n",
              "  </thead>\n",
              "  <tbody>\n",
              "    <tr>\n",
              "      <th>0</th>\n",
              "      <td>max f1</td>\n",
              "      <td>0.952429</td>\n",
              "      <td>1.000000</td>\n",
              "      <td>181.0</td>\n",
              "    </tr>\n",
              "    <tr>\n",
              "      <th>1</th>\n",
              "      <td>max f2</td>\n",
              "      <td>0.952429</td>\n",
              "      <td>1.000000</td>\n",
              "      <td>181.0</td>\n",
              "    </tr>\n",
              "    <tr>\n",
              "      <th>2</th>\n",
              "      <td>max f0point5</td>\n",
              "      <td>0.952429</td>\n",
              "      <td>1.000000</td>\n",
              "      <td>181.0</td>\n",
              "    </tr>\n",
              "    <tr>\n",
              "      <th>3</th>\n",
              "      <td>max accuracy</td>\n",
              "      <td>0.952429</td>\n",
              "      <td>1.000000</td>\n",
              "      <td>181.0</td>\n",
              "    </tr>\n",
              "    <tr>\n",
              "      <th>4</th>\n",
              "      <td>max precision</td>\n",
              "      <td>0.999983</td>\n",
              "      <td>1.000000</td>\n",
              "      <td>0.0</td>\n",
              "    </tr>\n",
              "    <tr>\n",
              "      <th>5</th>\n",
              "      <td>max recall</td>\n",
              "      <td>0.952429</td>\n",
              "      <td>1.000000</td>\n",
              "      <td>181.0</td>\n",
              "    </tr>\n",
              "    <tr>\n",
              "      <th>6</th>\n",
              "      <td>max specificity</td>\n",
              "      <td>0.999983</td>\n",
              "      <td>1.000000</td>\n",
              "      <td>0.0</td>\n",
              "    </tr>\n",
              "    <tr>\n",
              "      <th>7</th>\n",
              "      <td>max absolute_mcc</td>\n",
              "      <td>0.952429</td>\n",
              "      <td>1.000000</td>\n",
              "      <td>181.0</td>\n",
              "    </tr>\n",
              "    <tr>\n",
              "      <th>8</th>\n",
              "      <td>max min_per_class_accuracy</td>\n",
              "      <td>0.952429</td>\n",
              "      <td>1.000000</td>\n",
              "      <td>181.0</td>\n",
              "    </tr>\n",
              "    <tr>\n",
              "      <th>9</th>\n",
              "      <td>max mean_per_class_accuracy</td>\n",
              "      <td>0.952429</td>\n",
              "      <td>1.000000</td>\n",
              "      <td>181.0</td>\n",
              "    </tr>\n",
              "    <tr>\n",
              "      <th>10</th>\n",
              "      <td>max tns</td>\n",
              "      <td>0.999983</td>\n",
              "      <td>1042.000000</td>\n",
              "      <td>0.0</td>\n",
              "    </tr>\n",
              "    <tr>\n",
              "      <th>11</th>\n",
              "      <td>max fns</td>\n",
              "      <td>0.999983</td>\n",
              "      <td>1033.000000</td>\n",
              "      <td>0.0</td>\n",
              "    </tr>\n",
              "    <tr>\n",
              "      <th>12</th>\n",
              "      <td>max fps</td>\n",
              "      <td>0.000043</td>\n",
              "      <td>1042.000000</td>\n",
              "      <td>399.0</td>\n",
              "    </tr>\n",
              "    <tr>\n",
              "      <th>13</th>\n",
              "      <td>max tps</td>\n",
              "      <td>0.952429</td>\n",
              "      <td>1042.000000</td>\n",
              "      <td>181.0</td>\n",
              "    </tr>\n",
              "    <tr>\n",
              "      <th>14</th>\n",
              "      <td>max tnr</td>\n",
              "      <td>0.999983</td>\n",
              "      <td>1.000000</td>\n",
              "      <td>0.0</td>\n",
              "    </tr>\n",
              "    <tr>\n",
              "      <th>15</th>\n",
              "      <td>max fnr</td>\n",
              "      <td>0.999983</td>\n",
              "      <td>0.991363</td>\n",
              "      <td>0.0</td>\n",
              "    </tr>\n",
              "    <tr>\n",
              "      <th>16</th>\n",
              "      <td>max fpr</td>\n",
              "      <td>0.000043</td>\n",
              "      <td>1.000000</td>\n",
              "      <td>399.0</td>\n",
              "    </tr>\n",
              "    <tr>\n",
              "      <th>17</th>\n",
              "      <td>max tpr</td>\n",
              "      <td>0.952429</td>\n",
              "      <td>1.000000</td>\n",
              "      <td>181.0</td>\n",
              "    </tr>\n",
              "  </tbody>\n",
              "</table>\n",
              "</div>"
            ],
            "text/plain": [
              "                         metric  threshold        value    idx\n",
              "0                        max f1   0.952429     1.000000  181.0\n",
              "1                        max f2   0.952429     1.000000  181.0\n",
              "2                  max f0point5   0.952429     1.000000  181.0\n",
              "3                  max accuracy   0.952429     1.000000  181.0\n",
              "4                 max precision   0.999983     1.000000    0.0\n",
              "5                    max recall   0.952429     1.000000  181.0\n",
              "6               max specificity   0.999983     1.000000    0.0\n",
              "7              max absolute_mcc   0.952429     1.000000  181.0\n",
              "8    max min_per_class_accuracy   0.952429     1.000000  181.0\n",
              "9   max mean_per_class_accuracy   0.952429     1.000000  181.0\n",
              "10                      max tns   0.999983  1042.000000    0.0\n",
              "11                      max fns   0.999983  1033.000000    0.0\n",
              "12                      max fps   0.000043  1042.000000  399.0\n",
              "13                      max tps   0.952429  1042.000000  181.0\n",
              "14                      max tnr   0.999983     1.000000    0.0\n",
              "15                      max fnr   0.999983     0.991363    0.0\n",
              "16                      max fpr   0.000043     1.000000  399.0\n",
              "17                      max tpr   0.952429     1.000000  181.0"
            ]
          },
          "metadata": {}
        },
        {
          "output_type": "stream",
          "name": "stdout",
          "text": [
            "\n",
            "Gains/Lift Table: Avg response rate: 50.00 %, avg score: 50.01 %\n"
          ]
        },
        {
          "output_type": "display_data",
          "data": {
            "text/html": [
              "<div>\n",
              "<style scoped>\n",
              "    .dataframe tbody tr th:only-of-type {\n",
              "        vertical-align: middle;\n",
              "    }\n",
              "\n",
              "    .dataframe tbody tr th {\n",
              "        vertical-align: top;\n",
              "    }\n",
              "\n",
              "    .dataframe thead th {\n",
              "        text-align: right;\n",
              "    }\n",
              "</style>\n",
              "<table border=\"1\" class=\"dataframe\">\n",
              "  <thead>\n",
              "    <tr style=\"text-align: right;\">\n",
              "      <th></th>\n",
              "      <th>group</th>\n",
              "      <th>cumulative_data_fraction</th>\n",
              "      <th>lower_threshold</th>\n",
              "      <th>lift</th>\n",
              "      <th>cumulative_lift</th>\n",
              "      <th>response_rate</th>\n",
              "      <th>score</th>\n",
              "      <th>cumulative_response_rate</th>\n",
              "      <th>cumulative_score</th>\n",
              "      <th>capture_rate</th>\n",
              "      <th>cumulative_capture_rate</th>\n",
              "      <th>gain</th>\n",
              "      <th>cumulative_gain</th>\n",
              "      <th>kolmogorov_smirnov</th>\n",
              "    </tr>\n",
              "  </thead>\n",
              "  <tbody>\n",
              "    <tr>\n",
              "      <th>0</th>\n",
              "      <td>1</td>\n",
              "      <td>0.010077</td>\n",
              "      <td>0.999979</td>\n",
              "      <td>2.0</td>\n",
              "      <td>2.000000</td>\n",
              "      <td>1.0</td>\n",
              "      <td>0.999982</td>\n",
              "      <td>1.000000</td>\n",
              "      <td>0.999982</td>\n",
              "      <td>0.020154</td>\n",
              "      <td>0.020154</td>\n",
              "      <td>100.0</td>\n",
              "      <td>100.000000</td>\n",
              "      <td>0.020154</td>\n",
              "    </tr>\n",
              "    <tr>\n",
              "      <th>1</th>\n",
              "      <td>2</td>\n",
              "      <td>0.020154</td>\n",
              "      <td>0.999977</td>\n",
              "      <td>2.0</td>\n",
              "      <td>2.000000</td>\n",
              "      <td>1.0</td>\n",
              "      <td>0.999978</td>\n",
              "      <td>1.000000</td>\n",
              "      <td>0.999980</td>\n",
              "      <td>0.020154</td>\n",
              "      <td>0.040307</td>\n",
              "      <td>100.0</td>\n",
              "      <td>100.000000</td>\n",
              "      <td>0.040307</td>\n",
              "    </tr>\n",
              "    <tr>\n",
              "      <th>2</th>\n",
              "      <td>3</td>\n",
              "      <td>0.030230</td>\n",
              "      <td>0.999976</td>\n",
              "      <td>2.0</td>\n",
              "      <td>2.000000</td>\n",
              "      <td>1.0</td>\n",
              "      <td>0.999977</td>\n",
              "      <td>1.000000</td>\n",
              "      <td>0.999979</td>\n",
              "      <td>0.020154</td>\n",
              "      <td>0.060461</td>\n",
              "      <td>100.0</td>\n",
              "      <td>100.000000</td>\n",
              "      <td>0.060461</td>\n",
              "    </tr>\n",
              "    <tr>\n",
              "      <th>3</th>\n",
              "      <td>4</td>\n",
              "      <td>0.040307</td>\n",
              "      <td>0.999974</td>\n",
              "      <td>2.0</td>\n",
              "      <td>2.000000</td>\n",
              "      <td>1.0</td>\n",
              "      <td>0.999975</td>\n",
              "      <td>1.000000</td>\n",
              "      <td>0.999978</td>\n",
              "      <td>0.020154</td>\n",
              "      <td>0.080614</td>\n",
              "      <td>100.0</td>\n",
              "      <td>100.000000</td>\n",
              "      <td>0.080614</td>\n",
              "    </tr>\n",
              "    <tr>\n",
              "      <th>4</th>\n",
              "      <td>5</td>\n",
              "      <td>0.050384</td>\n",
              "      <td>0.999973</td>\n",
              "      <td>2.0</td>\n",
              "      <td>2.000000</td>\n",
              "      <td>1.0</td>\n",
              "      <td>0.999974</td>\n",
              "      <td>1.000000</td>\n",
              "      <td>0.999977</td>\n",
              "      <td>0.020154</td>\n",
              "      <td>0.100768</td>\n",
              "      <td>100.0</td>\n",
              "      <td>100.000000</td>\n",
              "      <td>0.100768</td>\n",
              "    </tr>\n",
              "    <tr>\n",
              "      <th>5</th>\n",
              "      <td>6</td>\n",
              "      <td>0.100288</td>\n",
              "      <td>0.999967</td>\n",
              "      <td>2.0</td>\n",
              "      <td>2.000000</td>\n",
              "      <td>1.0</td>\n",
              "      <td>0.999970</td>\n",
              "      <td>1.000000</td>\n",
              "      <td>0.999974</td>\n",
              "      <td>0.099808</td>\n",
              "      <td>0.200576</td>\n",
              "      <td>100.0</td>\n",
              "      <td>100.000000</td>\n",
              "      <td>0.200576</td>\n",
              "    </tr>\n",
              "    <tr>\n",
              "      <th>6</th>\n",
              "      <td>7</td>\n",
              "      <td>0.150192</td>\n",
              "      <td>0.999958</td>\n",
              "      <td>2.0</td>\n",
              "      <td>2.000000</td>\n",
              "      <td>1.0</td>\n",
              "      <td>0.999963</td>\n",
              "      <td>1.000000</td>\n",
              "      <td>0.999970</td>\n",
              "      <td>0.099808</td>\n",
              "      <td>0.300384</td>\n",
              "      <td>100.0</td>\n",
              "      <td>100.000000</td>\n",
              "      <td>0.300384</td>\n",
              "    </tr>\n",
              "    <tr>\n",
              "      <th>7</th>\n",
              "      <td>8</td>\n",
              "      <td>0.200096</td>\n",
              "      <td>0.999942</td>\n",
              "      <td>2.0</td>\n",
              "      <td>2.000000</td>\n",
              "      <td>1.0</td>\n",
              "      <td>0.999950</td>\n",
              "      <td>1.000000</td>\n",
              "      <td>0.999965</td>\n",
              "      <td>0.099808</td>\n",
              "      <td>0.400192</td>\n",
              "      <td>100.0</td>\n",
              "      <td>100.000000</td>\n",
              "      <td>0.400192</td>\n",
              "    </tr>\n",
              "    <tr>\n",
              "      <th>8</th>\n",
              "      <td>9</td>\n",
              "      <td>0.299904</td>\n",
              "      <td>0.999876</td>\n",
              "      <td>2.0</td>\n",
              "      <td>2.000000</td>\n",
              "      <td>1.0</td>\n",
              "      <td>0.999914</td>\n",
              "      <td>1.000000</td>\n",
              "      <td>0.999948</td>\n",
              "      <td>0.199616</td>\n",
              "      <td>0.599808</td>\n",
              "      <td>100.0</td>\n",
              "      <td>100.000000</td>\n",
              "      <td>0.599808</td>\n",
              "    </tr>\n",
              "    <tr>\n",
              "      <th>9</th>\n",
              "      <td>10</td>\n",
              "      <td>0.400192</td>\n",
              "      <td>0.999582</td>\n",
              "      <td>2.0</td>\n",
              "      <td>2.000000</td>\n",
              "      <td>1.0</td>\n",
              "      <td>0.999770</td>\n",
              "      <td>1.000000</td>\n",
              "      <td>0.999904</td>\n",
              "      <td>0.200576</td>\n",
              "      <td>0.800384</td>\n",
              "      <td>100.0</td>\n",
              "      <td>100.000000</td>\n",
              "      <td>0.800384</td>\n",
              "    </tr>\n",
              "    <tr>\n",
              "      <th>10</th>\n",
              "      <td>11</td>\n",
              "      <td>0.500000</td>\n",
              "      <td>0.490517</td>\n",
              "      <td>2.0</td>\n",
              "      <td>2.000000</td>\n",
              "      <td>1.0</td>\n",
              "      <td>0.998262</td>\n",
              "      <td>1.000000</td>\n",
              "      <td>0.999576</td>\n",
              "      <td>0.199616</td>\n",
              "      <td>1.000000</td>\n",
              "      <td>100.0</td>\n",
              "      <td>100.000000</td>\n",
              "      <td>1.000000</td>\n",
              "    </tr>\n",
              "    <tr>\n",
              "      <th>11</th>\n",
              "      <td>12</td>\n",
              "      <td>0.599808</td>\n",
              "      <td>0.000689</td>\n",
              "      <td>0.0</td>\n",
              "      <td>1.667200</td>\n",
              "      <td>0.0</td>\n",
              "      <td>0.002204</td>\n",
              "      <td>0.833600</td>\n",
              "      <td>0.833613</td>\n",
              "      <td>0.000000</td>\n",
              "      <td>1.000000</td>\n",
              "      <td>-100.0</td>\n",
              "      <td>66.720000</td>\n",
              "      <td>0.800384</td>\n",
              "    </tr>\n",
              "    <tr>\n",
              "      <th>12</th>\n",
              "      <td>13</td>\n",
              "      <td>0.700096</td>\n",
              "      <td>0.000264</td>\n",
              "      <td>0.0</td>\n",
              "      <td>1.428376</td>\n",
              "      <td>0.0</td>\n",
              "      <td>0.000427</td>\n",
              "      <td>0.714188</td>\n",
              "      <td>0.714260</td>\n",
              "      <td>0.000000</td>\n",
              "      <td>1.000000</td>\n",
              "      <td>-100.0</td>\n",
              "      <td>42.837560</td>\n",
              "      <td>0.599808</td>\n",
              "    </tr>\n",
              "    <tr>\n",
              "      <th>13</th>\n",
              "      <td>14</td>\n",
              "      <td>0.799904</td>\n",
              "      <td>0.000133</td>\n",
              "      <td>0.0</td>\n",
              "      <td>1.250150</td>\n",
              "      <td>0.0</td>\n",
              "      <td>0.000194</td>\n",
              "      <td>0.625075</td>\n",
              "      <td>0.625163</td>\n",
              "      <td>0.000000</td>\n",
              "      <td>1.000000</td>\n",
              "      <td>-100.0</td>\n",
              "      <td>25.014997</td>\n",
              "      <td>0.400192</td>\n",
              "    </tr>\n",
              "    <tr>\n",
              "      <th>14</th>\n",
              "      <td>15</td>\n",
              "      <td>0.899712</td>\n",
              "      <td>0.000075</td>\n",
              "      <td>0.0</td>\n",
              "      <td>1.111467</td>\n",
              "      <td>0.0</td>\n",
              "      <td>0.000096</td>\n",
              "      <td>0.555733</td>\n",
              "      <td>0.555822</td>\n",
              "      <td>0.000000</td>\n",
              "      <td>1.000000</td>\n",
              "      <td>-100.0</td>\n",
              "      <td>11.146667</td>\n",
              "      <td>0.200576</td>\n",
              "    </tr>\n",
              "    <tr>\n",
              "      <th>15</th>\n",
              "      <td>16</td>\n",
              "      <td>1.000000</td>\n",
              "      <td>0.000040</td>\n",
              "      <td>0.0</td>\n",
              "      <td>1.000000</td>\n",
              "      <td>0.0</td>\n",
              "      <td>0.000058</td>\n",
              "      <td>0.500000</td>\n",
              "      <td>0.500085</td>\n",
              "      <td>0.000000</td>\n",
              "      <td>1.000000</td>\n",
              "      <td>-100.0</td>\n",
              "      <td>0.000000</td>\n",
              "      <td>0.000000</td>\n",
              "    </tr>\n",
              "  </tbody>\n",
              "</table>\n",
              "</div>"
            ],
            "text/plain": [
              "    group  cumulative_data_fraction  ...  cumulative_gain  kolmogorov_smirnov\n",
              "0       1                  0.010077  ...       100.000000            0.020154\n",
              "1       2                  0.020154  ...       100.000000            0.040307\n",
              "2       3                  0.030230  ...       100.000000            0.060461\n",
              "3       4                  0.040307  ...       100.000000            0.080614\n",
              "4       5                  0.050384  ...       100.000000            0.100768\n",
              "5       6                  0.100288  ...       100.000000            0.200576\n",
              "6       7                  0.150192  ...       100.000000            0.300384\n",
              "7       8                  0.200096  ...       100.000000            0.400192\n",
              "8       9                  0.299904  ...       100.000000            0.599808\n",
              "9      10                  0.400192  ...       100.000000            0.800384\n",
              "10     11                  0.500000  ...       100.000000            1.000000\n",
              "11     12                  0.599808  ...        66.720000            0.800384\n",
              "12     13                  0.700096  ...        42.837560            0.599808\n",
              "13     14                  0.799904  ...        25.014997            0.400192\n",
              "14     15                  0.899712  ...        11.146667            0.200576\n",
              "15     16                  1.000000  ...         0.000000            0.000000\n",
              "\n",
              "[16 rows x 14 columns]"
            ]
          },
          "metadata": {}
        },
        {
          "output_type": "stream",
          "name": "stdout",
          "text": [
            "\n",
            "\n",
            "ModelMetricsBinomialGLM: stackedensemble\n",
            "** Reported on cross-validation data. **\n",
            "\n",
            "MSE: 0.0006530855936713889\n",
            "RMSE: 0.02555553939308245\n",
            "LogLoss: 0.0034386099552363323\n",
            "Null degrees of freedom: 2083\n",
            "Residual degrees of freedom: 2079\n",
            "Null deviance: 2889.3192519050663\n",
            "Residual deviance: 14.33212629342503\n",
            "AIC: 24.33212629342503\n",
            "AUC: 1.0\n",
            "AUCPR: 1.0\n",
            "Gini: 1.0\n",
            "\n",
            "Confusion Matrix (Act/Pred) for max f1 @ threshold = 0.20630409396208238: \n"
          ]
        },
        {
          "output_type": "display_data",
          "data": {
            "text/html": [
              "<div>\n",
              "<style scoped>\n",
              "    .dataframe tbody tr th:only-of-type {\n",
              "        vertical-align: middle;\n",
              "    }\n",
              "\n",
              "    .dataframe tbody tr th {\n",
              "        vertical-align: top;\n",
              "    }\n",
              "\n",
              "    .dataframe thead th {\n",
              "        text-align: right;\n",
              "    }\n",
              "</style>\n",
              "<table border=\"1\" class=\"dataframe\">\n",
              "  <thead>\n",
              "    <tr style=\"text-align: right;\">\n",
              "      <th></th>\n",
              "      <th></th>\n",
              "      <th>0</th>\n",
              "      <th>1</th>\n",
              "      <th>Error</th>\n",
              "      <th>Rate</th>\n",
              "    </tr>\n",
              "  </thead>\n",
              "  <tbody>\n",
              "    <tr>\n",
              "      <th>0</th>\n",
              "      <td>0</td>\n",
              "      <td>1042.0</td>\n",
              "      <td>0.0</td>\n",
              "      <td>0.0</td>\n",
              "      <td>(0.0/1042.0)</td>\n",
              "    </tr>\n",
              "    <tr>\n",
              "      <th>1</th>\n",
              "      <td>1</td>\n",
              "      <td>0.0</td>\n",
              "      <td>1042.0</td>\n",
              "      <td>0.0</td>\n",
              "      <td>(0.0/1042.0)</td>\n",
              "    </tr>\n",
              "    <tr>\n",
              "      <th>2</th>\n",
              "      <td>Total</td>\n",
              "      <td>1042.0</td>\n",
              "      <td>1042.0</td>\n",
              "      <td>0.0</td>\n",
              "      <td>(0.0/2084.0)</td>\n",
              "    </tr>\n",
              "  </tbody>\n",
              "</table>\n",
              "</div>"
            ],
            "text/plain": [
              "               0       1 Error           Rate\n",
              "0      0  1042.0     0.0   0.0   (0.0/1042.0)\n",
              "1      1     0.0  1042.0   0.0   (0.0/1042.0)\n",
              "2  Total  1042.0  1042.0   0.0   (0.0/2084.0)"
            ]
          },
          "metadata": {}
        },
        {
          "output_type": "stream",
          "name": "stdout",
          "text": [
            "\n",
            "Maximum Metrics: Maximum metrics at their respective thresholds\n"
          ]
        },
        {
          "output_type": "display_data",
          "data": {
            "text/html": [
              "<div>\n",
              "<style scoped>\n",
              "    .dataframe tbody tr th:only-of-type {\n",
              "        vertical-align: middle;\n",
              "    }\n",
              "\n",
              "    .dataframe tbody tr th {\n",
              "        vertical-align: top;\n",
              "    }\n",
              "\n",
              "    .dataframe thead th {\n",
              "        text-align: right;\n",
              "    }\n",
              "</style>\n",
              "<table border=\"1\" class=\"dataframe\">\n",
              "  <thead>\n",
              "    <tr style=\"text-align: right;\">\n",
              "      <th></th>\n",
              "      <th>metric</th>\n",
              "      <th>threshold</th>\n",
              "      <th>value</th>\n",
              "      <th>idx</th>\n",
              "    </tr>\n",
              "  </thead>\n",
              "  <tbody>\n",
              "    <tr>\n",
              "      <th>0</th>\n",
              "      <td>max f1</td>\n",
              "      <td>0.206304</td>\n",
              "      <td>1.000000</td>\n",
              "      <td>179.0</td>\n",
              "    </tr>\n",
              "    <tr>\n",
              "      <th>1</th>\n",
              "      <td>max f2</td>\n",
              "      <td>0.206304</td>\n",
              "      <td>1.000000</td>\n",
              "      <td>179.0</td>\n",
              "    </tr>\n",
              "    <tr>\n",
              "      <th>2</th>\n",
              "      <td>max f0point5</td>\n",
              "      <td>0.206304</td>\n",
              "      <td>1.000000</td>\n",
              "      <td>179.0</td>\n",
              "    </tr>\n",
              "    <tr>\n",
              "      <th>3</th>\n",
              "      <td>max accuracy</td>\n",
              "      <td>0.206304</td>\n",
              "      <td>1.000000</td>\n",
              "      <td>179.0</td>\n",
              "    </tr>\n",
              "    <tr>\n",
              "      <th>4</th>\n",
              "      <td>max precision</td>\n",
              "      <td>0.999997</td>\n",
              "      <td>1.000000</td>\n",
              "      <td>0.0</td>\n",
              "    </tr>\n",
              "    <tr>\n",
              "      <th>5</th>\n",
              "      <td>max recall</td>\n",
              "      <td>0.206304</td>\n",
              "      <td>1.000000</td>\n",
              "      <td>179.0</td>\n",
              "    </tr>\n",
              "    <tr>\n",
              "      <th>6</th>\n",
              "      <td>max specificity</td>\n",
              "      <td>0.999997</td>\n",
              "      <td>1.000000</td>\n",
              "      <td>0.0</td>\n",
              "    </tr>\n",
              "    <tr>\n",
              "      <th>7</th>\n",
              "      <td>max absolute_mcc</td>\n",
              "      <td>0.206304</td>\n",
              "      <td>1.000000</td>\n",
              "      <td>179.0</td>\n",
              "    </tr>\n",
              "    <tr>\n",
              "      <th>8</th>\n",
              "      <td>max min_per_class_accuracy</td>\n",
              "      <td>0.206304</td>\n",
              "      <td>1.000000</td>\n",
              "      <td>179.0</td>\n",
              "    </tr>\n",
              "    <tr>\n",
              "      <th>9</th>\n",
              "      <td>max mean_per_class_accuracy</td>\n",
              "      <td>0.206304</td>\n",
              "      <td>1.000000</td>\n",
              "      <td>179.0</td>\n",
              "    </tr>\n",
              "    <tr>\n",
              "      <th>10</th>\n",
              "      <td>max tns</td>\n",
              "      <td>0.999997</td>\n",
              "      <td>1042.000000</td>\n",
              "      <td>0.0</td>\n",
              "    </tr>\n",
              "    <tr>\n",
              "      <th>11</th>\n",
              "      <td>max fns</td>\n",
              "      <td>0.999997</td>\n",
              "      <td>960.000000</td>\n",
              "      <td>0.0</td>\n",
              "    </tr>\n",
              "    <tr>\n",
              "      <th>12</th>\n",
              "      <td>max fps</td>\n",
              "      <td>0.000006</td>\n",
              "      <td>1042.000000</td>\n",
              "      <td>399.0</td>\n",
              "    </tr>\n",
              "    <tr>\n",
              "      <th>13</th>\n",
              "      <td>max tps</td>\n",
              "      <td>0.206304</td>\n",
              "      <td>1042.000000</td>\n",
              "      <td>179.0</td>\n",
              "    </tr>\n",
              "    <tr>\n",
              "      <th>14</th>\n",
              "      <td>max tnr</td>\n",
              "      <td>0.999997</td>\n",
              "      <td>1.000000</td>\n",
              "      <td>0.0</td>\n",
              "    </tr>\n",
              "    <tr>\n",
              "      <th>15</th>\n",
              "      <td>max fnr</td>\n",
              "      <td>0.999997</td>\n",
              "      <td>0.921305</td>\n",
              "      <td>0.0</td>\n",
              "    </tr>\n",
              "    <tr>\n",
              "      <th>16</th>\n",
              "      <td>max fpr</td>\n",
              "      <td>0.000006</td>\n",
              "      <td>1.000000</td>\n",
              "      <td>399.0</td>\n",
              "    </tr>\n",
              "    <tr>\n",
              "      <th>17</th>\n",
              "      <td>max tpr</td>\n",
              "      <td>0.206304</td>\n",
              "      <td>1.000000</td>\n",
              "      <td>179.0</td>\n",
              "    </tr>\n",
              "  </tbody>\n",
              "</table>\n",
              "</div>"
            ],
            "text/plain": [
              "                         metric  threshold        value    idx\n",
              "0                        max f1   0.206304     1.000000  179.0\n",
              "1                        max f2   0.206304     1.000000  179.0\n",
              "2                  max f0point5   0.206304     1.000000  179.0\n",
              "3                  max accuracy   0.206304     1.000000  179.0\n",
              "4                 max precision   0.999997     1.000000    0.0\n",
              "5                    max recall   0.206304     1.000000  179.0\n",
              "6               max specificity   0.999997     1.000000    0.0\n",
              "7              max absolute_mcc   0.206304     1.000000  179.0\n",
              "8    max min_per_class_accuracy   0.206304     1.000000  179.0\n",
              "9   max mean_per_class_accuracy   0.206304     1.000000  179.0\n",
              "10                      max tns   0.999997  1042.000000    0.0\n",
              "11                      max fns   0.999997   960.000000    0.0\n",
              "12                      max fps   0.000006  1042.000000  399.0\n",
              "13                      max tps   0.206304  1042.000000  179.0\n",
              "14                      max tnr   0.999997     1.000000    0.0\n",
              "15                      max fnr   0.999997     0.921305    0.0\n",
              "16                      max fpr   0.000006     1.000000  399.0\n",
              "17                      max tpr   0.206304     1.000000  179.0"
            ]
          },
          "metadata": {}
        },
        {
          "output_type": "stream",
          "name": "stdout",
          "text": [
            "\n",
            "Gains/Lift Table: Avg response rate: 50.00 %, avg score: 50.00 %\n"
          ]
        },
        {
          "output_type": "display_data",
          "data": {
            "text/html": [
              "<div>\n",
              "<style scoped>\n",
              "    .dataframe tbody tr th:only-of-type {\n",
              "        vertical-align: middle;\n",
              "    }\n",
              "\n",
              "    .dataframe tbody tr th {\n",
              "        vertical-align: top;\n",
              "    }\n",
              "\n",
              "    .dataframe thead th {\n",
              "        text-align: right;\n",
              "    }\n",
              "</style>\n",
              "<table border=\"1\" class=\"dataframe\">\n",
              "  <thead>\n",
              "    <tr style=\"text-align: right;\">\n",
              "      <th></th>\n",
              "      <th>group</th>\n",
              "      <th>cumulative_data_fraction</th>\n",
              "      <th>lower_threshold</th>\n",
              "      <th>lift</th>\n",
              "      <th>cumulative_lift</th>\n",
              "      <th>response_rate</th>\n",
              "      <th>score</th>\n",
              "      <th>cumulative_response_rate</th>\n",
              "      <th>cumulative_score</th>\n",
              "      <th>capture_rate</th>\n",
              "      <th>cumulative_capture_rate</th>\n",
              "      <th>gain</th>\n",
              "      <th>cumulative_gain</th>\n",
              "      <th>kolmogorov_smirnov</th>\n",
              "    </tr>\n",
              "  </thead>\n",
              "  <tbody>\n",
              "    <tr>\n",
              "      <th>0</th>\n",
              "      <td>1</td>\n",
              "      <td>0.010077</td>\n",
              "      <td>0.999999</td>\n",
              "      <td>2.0</td>\n",
              "      <td>2.000000</td>\n",
              "      <td>1.0</td>\n",
              "      <td>0.999999</td>\n",
              "      <td>1.000000</td>\n",
              "      <td>0.999999</td>\n",
              "      <td>0.020154</td>\n",
              "      <td>0.020154</td>\n",
              "      <td>100.0</td>\n",
              "      <td>100.000000</td>\n",
              "      <td>0.020154</td>\n",
              "    </tr>\n",
              "    <tr>\n",
              "      <th>1</th>\n",
              "      <td>2</td>\n",
              "      <td>0.020154</td>\n",
              "      <td>0.999997</td>\n",
              "      <td>2.0</td>\n",
              "      <td>2.000000</td>\n",
              "      <td>1.0</td>\n",
              "      <td>0.999998</td>\n",
              "      <td>1.000000</td>\n",
              "      <td>0.999998</td>\n",
              "      <td>0.020154</td>\n",
              "      <td>0.040307</td>\n",
              "      <td>100.0</td>\n",
              "      <td>100.000000</td>\n",
              "      <td>0.040307</td>\n",
              "    </tr>\n",
              "    <tr>\n",
              "      <th>2</th>\n",
              "      <td>3</td>\n",
              "      <td>0.030230</td>\n",
              "      <td>0.999997</td>\n",
              "      <td>2.0</td>\n",
              "      <td>2.000000</td>\n",
              "      <td>1.0</td>\n",
              "      <td>0.999997</td>\n",
              "      <td>1.000000</td>\n",
              "      <td>0.999998</td>\n",
              "      <td>0.020154</td>\n",
              "      <td>0.060461</td>\n",
              "      <td>100.0</td>\n",
              "      <td>100.000000</td>\n",
              "      <td>0.060461</td>\n",
              "    </tr>\n",
              "    <tr>\n",
              "      <th>3</th>\n",
              "      <td>4</td>\n",
              "      <td>0.040307</td>\n",
              "      <td>0.999995</td>\n",
              "      <td>2.0</td>\n",
              "      <td>2.000000</td>\n",
              "      <td>1.0</td>\n",
              "      <td>0.999996</td>\n",
              "      <td>1.000000</td>\n",
              "      <td>0.999997</td>\n",
              "      <td>0.020154</td>\n",
              "      <td>0.080614</td>\n",
              "      <td>100.0</td>\n",
              "      <td>100.000000</td>\n",
              "      <td>0.080614</td>\n",
              "    </tr>\n",
              "    <tr>\n",
              "      <th>4</th>\n",
              "      <td>5</td>\n",
              "      <td>0.050384</td>\n",
              "      <td>0.999992</td>\n",
              "      <td>2.0</td>\n",
              "      <td>2.000000</td>\n",
              "      <td>1.0</td>\n",
              "      <td>0.999994</td>\n",
              "      <td>1.000000</td>\n",
              "      <td>0.999997</td>\n",
              "      <td>0.020154</td>\n",
              "      <td>0.100768</td>\n",
              "      <td>100.0</td>\n",
              "      <td>100.000000</td>\n",
              "      <td>0.100768</td>\n",
              "    </tr>\n",
              "    <tr>\n",
              "      <th>5</th>\n",
              "      <td>6</td>\n",
              "      <td>0.100288</td>\n",
              "      <td>0.999939</td>\n",
              "      <td>2.0</td>\n",
              "      <td>2.000000</td>\n",
              "      <td>1.0</td>\n",
              "      <td>0.999964</td>\n",
              "      <td>1.000000</td>\n",
              "      <td>0.999981</td>\n",
              "      <td>0.099808</td>\n",
              "      <td>0.200576</td>\n",
              "      <td>100.0</td>\n",
              "      <td>100.000000</td>\n",
              "      <td>0.200576</td>\n",
              "    </tr>\n",
              "    <tr>\n",
              "      <th>6</th>\n",
              "      <td>7</td>\n",
              "      <td>0.150192</td>\n",
              "      <td>0.999867</td>\n",
              "      <td>2.0</td>\n",
              "      <td>2.000000</td>\n",
              "      <td>1.0</td>\n",
              "      <td>0.999906</td>\n",
              "      <td>1.000000</td>\n",
              "      <td>0.999956</td>\n",
              "      <td>0.099808</td>\n",
              "      <td>0.300384</td>\n",
              "      <td>100.0</td>\n",
              "      <td>100.000000</td>\n",
              "      <td>0.300384</td>\n",
              "    </tr>\n",
              "    <tr>\n",
              "      <th>7</th>\n",
              "      <td>8</td>\n",
              "      <td>0.200096</td>\n",
              "      <td>0.999764</td>\n",
              "      <td>2.0</td>\n",
              "      <td>2.000000</td>\n",
              "      <td>1.0</td>\n",
              "      <td>0.999816</td>\n",
              "      <td>1.000000</td>\n",
              "      <td>0.999921</td>\n",
              "      <td>0.099808</td>\n",
              "      <td>0.400192</td>\n",
              "      <td>100.0</td>\n",
              "      <td>100.000000</td>\n",
              "      <td>0.400192</td>\n",
              "    </tr>\n",
              "    <tr>\n",
              "      <th>8</th>\n",
              "      <td>9</td>\n",
              "      <td>0.299904</td>\n",
              "      <td>0.999399</td>\n",
              "      <td>2.0</td>\n",
              "      <td>2.000000</td>\n",
              "      <td>1.0</td>\n",
              "      <td>0.999613</td>\n",
              "      <td>1.000000</td>\n",
              "      <td>0.999818</td>\n",
              "      <td>0.199616</td>\n",
              "      <td>0.599808</td>\n",
              "      <td>100.0</td>\n",
              "      <td>100.000000</td>\n",
              "      <td>0.599808</td>\n",
              "    </tr>\n",
              "    <tr>\n",
              "      <th>9</th>\n",
              "      <td>10</td>\n",
              "      <td>0.400192</td>\n",
              "      <td>0.998248</td>\n",
              "      <td>2.0</td>\n",
              "      <td>2.000000</td>\n",
              "      <td>1.0</td>\n",
              "      <td>0.998977</td>\n",
              "      <td>1.000000</td>\n",
              "      <td>0.999608</td>\n",
              "      <td>0.200576</td>\n",
              "      <td>0.800384</td>\n",
              "      <td>100.0</td>\n",
              "      <td>100.000000</td>\n",
              "      <td>0.800384</td>\n",
              "    </tr>\n",
              "    <tr>\n",
              "      <th>10</th>\n",
              "      <td>11</td>\n",
              "      <td>0.500000</td>\n",
              "      <td>0.196060</td>\n",
              "      <td>2.0</td>\n",
              "      <td>2.000000</td>\n",
              "      <td>1.0</td>\n",
              "      <td>0.987792</td>\n",
              "      <td>1.000000</td>\n",
              "      <td>0.997249</td>\n",
              "      <td>0.199616</td>\n",
              "      <td>1.000000</td>\n",
              "      <td>100.0</td>\n",
              "      <td>100.000000</td>\n",
              "      <td>1.000000</td>\n",
              "    </tr>\n",
              "    <tr>\n",
              "      <th>11</th>\n",
              "      <td>12</td>\n",
              "      <td>0.599808</td>\n",
              "      <td>0.002791</td>\n",
              "      <td>0.0</td>\n",
              "      <td>1.667200</td>\n",
              "      <td>0.0</td>\n",
              "      <td>0.010698</td>\n",
              "      <td>0.833600</td>\n",
              "      <td>0.833087</td>\n",
              "      <td>0.000000</td>\n",
              "      <td>1.000000</td>\n",
              "      <td>-100.0</td>\n",
              "      <td>66.720000</td>\n",
              "      <td>0.800384</td>\n",
              "    </tr>\n",
              "    <tr>\n",
              "      <th>12</th>\n",
              "      <td>13</td>\n",
              "      <td>0.700096</td>\n",
              "      <td>0.000960</td>\n",
              "      <td>0.0</td>\n",
              "      <td>1.428376</td>\n",
              "      <td>0.0</td>\n",
              "      <td>0.001694</td>\n",
              "      <td>0.714188</td>\n",
              "      <td>0.713991</td>\n",
              "      <td>0.000000</td>\n",
              "      <td>1.000000</td>\n",
              "      <td>-100.0</td>\n",
              "      <td>42.837560</td>\n",
              "      <td>0.599808</td>\n",
              "    </tr>\n",
              "    <tr>\n",
              "      <th>13</th>\n",
              "      <td>14</td>\n",
              "      <td>0.799904</td>\n",
              "      <td>0.000373</td>\n",
              "      <td>0.0</td>\n",
              "      <td>1.250150</td>\n",
              "      <td>0.0</td>\n",
              "      <td>0.000681</td>\n",
              "      <td>0.625075</td>\n",
              "      <td>0.624988</td>\n",
              "      <td>0.000000</td>\n",
              "      <td>1.000000</td>\n",
              "      <td>-100.0</td>\n",
              "      <td>25.014997</td>\n",
              "      <td>0.400192</td>\n",
              "    </tr>\n",
              "    <tr>\n",
              "      <th>14</th>\n",
              "      <td>15</td>\n",
              "      <td>0.899712</td>\n",
              "      <td>0.000084</td>\n",
              "      <td>0.0</td>\n",
              "      <td>1.111467</td>\n",
              "      <td>0.0</td>\n",
              "      <td>0.000191</td>\n",
              "      <td>0.555733</td>\n",
              "      <td>0.555677</td>\n",
              "      <td>0.000000</td>\n",
              "      <td>1.000000</td>\n",
              "      <td>-100.0</td>\n",
              "      <td>11.146667</td>\n",
              "      <td>0.200576</td>\n",
              "    </tr>\n",
              "    <tr>\n",
              "      <th>15</th>\n",
              "      <td>16</td>\n",
              "      <td>1.000000</td>\n",
              "      <td>0.000002</td>\n",
              "      <td>0.0</td>\n",
              "      <td>1.000000</td>\n",
              "      <td>0.0</td>\n",
              "      <td>0.000029</td>\n",
              "      <td>0.500000</td>\n",
              "      <td>0.499952</td>\n",
              "      <td>0.000000</td>\n",
              "      <td>1.000000</td>\n",
              "      <td>-100.0</td>\n",
              "      <td>0.000000</td>\n",
              "      <td>0.000000</td>\n",
              "    </tr>\n",
              "  </tbody>\n",
              "</table>\n",
              "</div>"
            ],
            "text/plain": [
              "    group  cumulative_data_fraction  ...  cumulative_gain  kolmogorov_smirnov\n",
              "0       1                  0.010077  ...       100.000000            0.020154\n",
              "1       2                  0.020154  ...       100.000000            0.040307\n",
              "2       3                  0.030230  ...       100.000000            0.060461\n",
              "3       4                  0.040307  ...       100.000000            0.080614\n",
              "4       5                  0.050384  ...       100.000000            0.100768\n",
              "5       6                  0.100288  ...       100.000000            0.200576\n",
              "6       7                  0.150192  ...       100.000000            0.300384\n",
              "7       8                  0.200096  ...       100.000000            0.400192\n",
              "8       9                  0.299904  ...       100.000000            0.599808\n",
              "9      10                  0.400192  ...       100.000000            0.800384\n",
              "10     11                  0.500000  ...       100.000000            1.000000\n",
              "11     12                  0.599808  ...        66.720000            0.800384\n",
              "12     13                  0.700096  ...        42.837560            0.599808\n",
              "13     14                  0.799904  ...        25.014997            0.400192\n",
              "14     15                  0.899712  ...        11.146667            0.200576\n",
              "15     16                  1.000000  ...         0.000000            0.000000\n",
              "\n",
              "[16 rows x 14 columns]"
            ]
          },
          "metadata": {}
        },
        {
          "output_type": "stream",
          "name": "stdout",
          "text": [
            "\n"
          ]
        },
        {
          "output_type": "execute_result",
          "data": {
            "text/plain": [
              ""
            ]
          },
          "metadata": {},
          "execution_count": 17
        }
      ]
    },
    {
      "cell_type": "code",
      "metadata": {
        "colab": {
          "base_uri": "https://localhost:8080/",
          "height": 35
        },
        "id": "QL4tAFqz2_ny",
        "outputId": "1934aa90-2aea-4dbe-b255-23a7b99ebd85"
      },
      "source": [
        "modelo_automl.key"
      ],
      "execution_count": 109,
      "outputs": [
        {
          "output_type": "execute_result",
          "data": {
            "application/vnd.google.colaboratory.intrinsic+json": {
              "type": "string"
            },
            "text/plain": [
              "'AutoML_1_20210920_211817@@Dir'"
            ]
          },
          "metadata": {},
          "execution_count": 109
        }
      ]
    },
    {
      "cell_type": "markdown",
      "metadata": {
        "id": "lvvTLEmuFZDY"
      },
      "source": [
        "# Novas previsões"
      ]
    },
    {
      "cell_type": "code",
      "metadata": {
        "colab": {
          "base_uri": "https://localhost:8080/"
        },
        "id": "WeCxAC3AFd3l",
        "outputId": "60af4e36-14da-470a-fd60-21a6a3e16082"
      },
      "source": [
        "# Novos dados da bolsa\n",
        "dados,dados2 = coletar_dados('ITUB4.SA',\"2009-01-01\",\"2021-09-21\")\n",
        "\n",
        "# transformando os dados para H20Frame\n",
        "dados3 = h2o.H2OFrame(dados2)\n",
        "\n",
        "# selecionando a ultima linha - 17/09\n",
        "dados3[-2:-1,:]\n",
        "\n",
        "# Salvando de H20Frame para Pandas\n",
        "prev = prever(modelo_automl,teste[0-1:,:]).as_data_frame()\n",
        "\n",
        "# Pegando a previsão\n",
        "valor = int(prev.iloc[:,0].values)"
      ],
      "execution_count": 215,
      "outputs": [
        {
          "output_type": "stream",
          "name": "stdout",
          "text": [
            "\r[*********************100%***********************]  1 of 1 completed\n",
            "Parse progress: |████████████████████████████████████████████████████████████████| (done) 100%\n",
            "stackedensemble prediction progress: |███████████████████████████████████████████| (done) 100%\n"
          ]
        }
      ]
    },
    {
      "cell_type": "code",
      "metadata": {
        "colab": {
          "base_uri": "https://localhost:8080/",
          "height": 59
        },
        "id": "IAQGaJQrTOsI",
        "outputId": "916fc3c9-dbb0-4f48-ebb7-4a7f2eb32db1"
      },
      "source": [
        "# Verificando a linha -> 17/09\n",
        "dados3[-2:-1,:]\n"
      ],
      "execution_count": 216,
      "outputs": [
        {
          "output_type": "display_data",
          "data": {
            "text/html": [
              "<table>\n",
              "<thead>\n",
              "<tr><th style=\"text-align: right;\">  Open</th><th style=\"text-align: right;\">  High</th><th style=\"text-align: right;\">  Low</th><th style=\"text-align: right;\">  Close</th><th style=\"text-align: right;\">  Adj Close</th><th style=\"text-align: right;\">     Volume</th></tr>\n",
              "</thead>\n",
              "<tbody>\n",
              "<tr><td style=\"text-align: right;\"> 28.47</td><td style=\"text-align: right;\">  28.5</td><td style=\"text-align: right;\">27.82</td><td style=\"text-align: right;\">  27.82</td><td style=\"text-align: right;\">      27.82</td><td style=\"text-align: right;\">4.36199e+07</td></tr>\n",
              "</tbody>\n",
              "</table>"
            ]
          },
          "metadata": {}
        },
        {
          "output_type": "execute_result",
          "data": {
            "text/plain": [
              ""
            ]
          },
          "metadata": {},
          "execution_count": 216
        }
      ]
    },
    {
      "cell_type": "code",
      "metadata": {
        "colab": {
          "base_uri": "https://localhost:8080/"
        },
        "id": "oZABvyxzHl2H",
        "outputId": "ea386c56-903b-47ec-9c87-f1f630c8fd63"
      },
      "source": [
        "# Interpretando...\n",
        "if valor ==1:\n",
        "  print('Comprar')\n",
        "else:\n",
        "  print('Vender')"
      ],
      "execution_count": 217,
      "outputs": [
        {
          "output_type": "stream",
          "name": "stdout",
          "text": [
            "Vender\n"
          ]
        }
      ]
    },
    {
      "cell_type": "code",
      "metadata": {
        "colab": {
          "base_uri": "https://localhost:8080/",
          "height": 234
        },
        "id": "qrC142HZTY9z",
        "outputId": "f8bab386-c298-4633-b8a5-741ea784ddd7"
      },
      "source": [
        "# Ultimos 5 dias.\n",
        "dados2.tail(5)"
      ],
      "execution_count": 218,
      "outputs": [
        {
          "output_type": "execute_result",
          "data": {
            "text/html": [
              "<div>\n",
              "<style scoped>\n",
              "    .dataframe tbody tr th:only-of-type {\n",
              "        vertical-align: middle;\n",
              "    }\n",
              "\n",
              "    .dataframe tbody tr th {\n",
              "        vertical-align: top;\n",
              "    }\n",
              "\n",
              "    .dataframe thead th {\n",
              "        text-align: right;\n",
              "    }\n",
              "</style>\n",
              "<table border=\"1\" class=\"dataframe\">\n",
              "  <thead>\n",
              "    <tr style=\"text-align: right;\">\n",
              "      <th></th>\n",
              "      <th>Open</th>\n",
              "      <th>High</th>\n",
              "      <th>Low</th>\n",
              "      <th>Close</th>\n",
              "      <th>Adj Close</th>\n",
              "      <th>Volume</th>\n",
              "    </tr>\n",
              "    <tr>\n",
              "      <th>Date</th>\n",
              "      <th></th>\n",
              "      <th></th>\n",
              "      <th></th>\n",
              "      <th></th>\n",
              "      <th></th>\n",
              "      <th></th>\n",
              "    </tr>\n",
              "  </thead>\n",
              "  <tbody>\n",
              "    <tr>\n",
              "      <th>2021-09-14</th>\n",
              "      <td>29.100000</td>\n",
              "      <td>29.360001</td>\n",
              "      <td>28.900000</td>\n",
              "      <td>28.990000</td>\n",
              "      <td>28.990000</td>\n",
              "      <td>24181000</td>\n",
              "    </tr>\n",
              "    <tr>\n",
              "      <th>2021-09-15</th>\n",
              "      <td>29.049999</td>\n",
              "      <td>29.070000</td>\n",
              "      <td>28.520000</td>\n",
              "      <td>28.520000</td>\n",
              "      <td>28.520000</td>\n",
              "      <td>26397500</td>\n",
              "    </tr>\n",
              "    <tr>\n",
              "      <th>2021-09-16</th>\n",
              "      <td>28.320000</td>\n",
              "      <td>28.660000</td>\n",
              "      <td>28.160000</td>\n",
              "      <td>28.500000</td>\n",
              "      <td>28.500000</td>\n",
              "      <td>46425000</td>\n",
              "    </tr>\n",
              "    <tr>\n",
              "      <th>2021-09-17</th>\n",
              "      <td>28.469999</td>\n",
              "      <td>28.500000</td>\n",
              "      <td>27.820000</td>\n",
              "      <td>27.820000</td>\n",
              "      <td>27.820000</td>\n",
              "      <td>43619900</td>\n",
              "    </tr>\n",
              "    <tr>\n",
              "      <th>2021-09-20</th>\n",
              "      <td>27.299999</td>\n",
              "      <td>27.629999</td>\n",
              "      <td>26.860001</td>\n",
              "      <td>27.190001</td>\n",
              "      <td>27.190001</td>\n",
              "      <td>45684200</td>\n",
              "    </tr>\n",
              "  </tbody>\n",
              "</table>\n",
              "</div>"
            ],
            "text/plain": [
              "                 Open       High        Low      Close  Adj Close    Volume\n",
              "Date                                                                       \n",
              "2021-09-14  29.100000  29.360001  28.900000  28.990000  28.990000  24181000\n",
              "2021-09-15  29.049999  29.070000  28.520000  28.520000  28.520000  26397500\n",
              "2021-09-16  28.320000  28.660000  28.160000  28.500000  28.500000  46425000\n",
              "2021-09-17  28.469999  28.500000  27.820000  27.820000  27.820000  43619900\n",
              "2021-09-20  27.299999  27.629999  26.860001  27.190001  27.190001  45684200"
            ]
          },
          "metadata": {},
          "execution_count": 218
        }
      ]
    },
    {
      "cell_type": "markdown",
      "metadata": {
        "id": "rWYW4OTNSrZj"
      },
      "source": [
        "# Checando as previsões"
      ]
    },
    {
      "cell_type": "code",
      "metadata": {
        "colab": {
          "base_uri": "https://localhost:8080/",
          "height": 542
        },
        "id": "wBJ6mnpSPw3C",
        "outputId": "7b195814-65b5-41a1-86fc-f02f4800e8cf"
      },
      "source": [
        "# Plotando.\n",
        "\n",
        "# 1. Podemos ver que no dia 17/09 o preço era de 27.82.\n",
        "# 2. s previsão para o dia 20/09 era venda.\n",
        "# 3. Assim no dia 20/09 o preço caiu para 27.19, confirmando a previsão.\n",
        "import plotly.graph_objects as go\n",
        "\n",
        "fig = go.Figure([go.Scatter(x=dados2['Date'].tail(5), y=dados2['Adj Close'].tail(5))])\n",
        "fig.show()"
      ],
      "execution_count": 228,
      "outputs": [
        {
          "output_type": "display_data",
          "data": {
            "text/html": [
              "<html>\n",
              "<head><meta charset=\"utf-8\" /></head>\n",
              "<body>\n",
              "    <div>\n",
              "            <script src=\"https://cdnjs.cloudflare.com/ajax/libs/mathjax/2.7.5/MathJax.js?config=TeX-AMS-MML_SVG\"></script><script type=\"text/javascript\">if (window.MathJax) {MathJax.Hub.Config({SVG: {font: \"STIX-Web\"}});}</script>\n",
              "                <script type=\"text/javascript\">window.PlotlyConfig = {MathJaxConfig: 'local'};</script>\n",
              "        <script src=\"https://cdn.plot.ly/plotly-latest.min.js\"></script>    \n",
              "            <div id=\"1fa0f8b7-3a69-4da9-b252-aab8b0f544e1\" class=\"plotly-graph-div\" style=\"height:525px; width:100%;\"></div>\n",
              "            <script type=\"text/javascript\">\n",
              "                \n",
              "                    window.PLOTLYENV=window.PLOTLYENV || {};\n",
              "                    \n",
              "                if (document.getElementById(\"1fa0f8b7-3a69-4da9-b252-aab8b0f544e1\")) {\n",
              "                    Plotly.newPlot(\n",
              "                        '1fa0f8b7-3a69-4da9-b252-aab8b0f544e1',\n",
              "                        [{\"type\": \"scatter\", \"x\": [\"2021-09-14T00:00:00\", \"2021-09-15T00:00:00\", \"2021-09-16T00:00:00\", \"2021-09-17T00:00:00\", \"2021-09-20T00:00:00\"], \"y\": [28.989999771118164, 28.520000457763672, 28.5, 27.81999969482422, 27.190000534057617]}],\n",
              "                        {\"template\": {\"data\": {\"bar\": [{\"error_x\": {\"color\": \"#2a3f5f\"}, \"error_y\": {\"color\": \"#2a3f5f\"}, \"marker\": {\"line\": {\"color\": \"#E5ECF6\", \"width\": 0.5}}, \"type\": \"bar\"}], \"barpolar\": [{\"marker\": {\"line\": {\"color\": \"#E5ECF6\", \"width\": 0.5}}, \"type\": \"barpolar\"}], \"carpet\": [{\"aaxis\": {\"endlinecolor\": \"#2a3f5f\", \"gridcolor\": \"white\", \"linecolor\": \"white\", \"minorgridcolor\": \"white\", \"startlinecolor\": \"#2a3f5f\"}, \"baxis\": {\"endlinecolor\": \"#2a3f5f\", \"gridcolor\": \"white\", \"linecolor\": \"white\", \"minorgridcolor\": \"white\", \"startlinecolor\": \"#2a3f5f\"}, \"type\": \"carpet\"}], \"choropleth\": [{\"colorbar\": {\"outlinewidth\": 0, \"ticks\": \"\"}, \"type\": \"choropleth\"}], \"contour\": [{\"colorbar\": {\"outlinewidth\": 0, \"ticks\": \"\"}, \"colorscale\": [[0.0, \"#0d0887\"], [0.1111111111111111, \"#46039f\"], [0.2222222222222222, \"#7201a8\"], [0.3333333333333333, \"#9c179e\"], [0.4444444444444444, \"#bd3786\"], [0.5555555555555556, \"#d8576b\"], [0.6666666666666666, \"#ed7953\"], [0.7777777777777778, \"#fb9f3a\"], [0.8888888888888888, \"#fdca26\"], [1.0, \"#f0f921\"]], \"type\": \"contour\"}], \"contourcarpet\": [{\"colorbar\": {\"outlinewidth\": 0, \"ticks\": \"\"}, \"type\": \"contourcarpet\"}], \"heatmap\": [{\"colorbar\": {\"outlinewidth\": 0, \"ticks\": \"\"}, \"colorscale\": [[0.0, \"#0d0887\"], [0.1111111111111111, \"#46039f\"], [0.2222222222222222, \"#7201a8\"], [0.3333333333333333, \"#9c179e\"], [0.4444444444444444, \"#bd3786\"], [0.5555555555555556, \"#d8576b\"], [0.6666666666666666, \"#ed7953\"], [0.7777777777777778, \"#fb9f3a\"], [0.8888888888888888, \"#fdca26\"], [1.0, \"#f0f921\"]], \"type\": \"heatmap\"}], \"heatmapgl\": [{\"colorbar\": {\"outlinewidth\": 0, \"ticks\": \"\"}, \"colorscale\": [[0.0, \"#0d0887\"], [0.1111111111111111, \"#46039f\"], [0.2222222222222222, \"#7201a8\"], [0.3333333333333333, \"#9c179e\"], [0.4444444444444444, \"#bd3786\"], [0.5555555555555556, \"#d8576b\"], [0.6666666666666666, \"#ed7953\"], [0.7777777777777778, \"#fb9f3a\"], [0.8888888888888888, \"#fdca26\"], [1.0, \"#f0f921\"]], \"type\": \"heatmapgl\"}], \"histogram\": [{\"marker\": {\"colorbar\": {\"outlinewidth\": 0, \"ticks\": \"\"}}, \"type\": \"histogram\"}], \"histogram2d\": [{\"colorbar\": {\"outlinewidth\": 0, \"ticks\": \"\"}, \"colorscale\": [[0.0, \"#0d0887\"], [0.1111111111111111, \"#46039f\"], [0.2222222222222222, \"#7201a8\"], [0.3333333333333333, \"#9c179e\"], [0.4444444444444444, \"#bd3786\"], [0.5555555555555556, \"#d8576b\"], [0.6666666666666666, \"#ed7953\"], [0.7777777777777778, \"#fb9f3a\"], [0.8888888888888888, \"#fdca26\"], [1.0, \"#f0f921\"]], \"type\": \"histogram2d\"}], \"histogram2dcontour\": [{\"colorbar\": {\"outlinewidth\": 0, \"ticks\": \"\"}, \"colorscale\": [[0.0, \"#0d0887\"], [0.1111111111111111, \"#46039f\"], [0.2222222222222222, \"#7201a8\"], [0.3333333333333333, \"#9c179e\"], [0.4444444444444444, \"#bd3786\"], [0.5555555555555556, \"#d8576b\"], [0.6666666666666666, \"#ed7953\"], [0.7777777777777778, \"#fb9f3a\"], [0.8888888888888888, \"#fdca26\"], [1.0, \"#f0f921\"]], \"type\": \"histogram2dcontour\"}], \"mesh3d\": [{\"colorbar\": {\"outlinewidth\": 0, \"ticks\": \"\"}, \"type\": \"mesh3d\"}], \"parcoords\": [{\"line\": {\"colorbar\": {\"outlinewidth\": 0, \"ticks\": \"\"}}, \"type\": \"parcoords\"}], \"pie\": [{\"automargin\": true, \"type\": \"pie\"}], \"scatter\": [{\"marker\": {\"colorbar\": {\"outlinewidth\": 0, \"ticks\": \"\"}}, \"type\": \"scatter\"}], \"scatter3d\": [{\"line\": {\"colorbar\": {\"outlinewidth\": 0, \"ticks\": \"\"}}, \"marker\": {\"colorbar\": {\"outlinewidth\": 0, \"ticks\": \"\"}}, \"type\": \"scatter3d\"}], \"scattercarpet\": [{\"marker\": {\"colorbar\": {\"outlinewidth\": 0, \"ticks\": \"\"}}, \"type\": \"scattercarpet\"}], \"scattergeo\": [{\"marker\": {\"colorbar\": {\"outlinewidth\": 0, \"ticks\": \"\"}}, \"type\": \"scattergeo\"}], \"scattergl\": [{\"marker\": {\"colorbar\": {\"outlinewidth\": 0, \"ticks\": \"\"}}, \"type\": \"scattergl\"}], \"scattermapbox\": [{\"marker\": {\"colorbar\": {\"outlinewidth\": 0, \"ticks\": \"\"}}, \"type\": \"scattermapbox\"}], \"scatterpolar\": [{\"marker\": {\"colorbar\": {\"outlinewidth\": 0, \"ticks\": \"\"}}, \"type\": \"scatterpolar\"}], \"scatterpolargl\": [{\"marker\": {\"colorbar\": {\"outlinewidth\": 0, \"ticks\": \"\"}}, \"type\": \"scatterpolargl\"}], \"scatterternary\": [{\"marker\": {\"colorbar\": {\"outlinewidth\": 0, \"ticks\": \"\"}}, \"type\": \"scatterternary\"}], \"surface\": [{\"colorbar\": {\"outlinewidth\": 0, \"ticks\": \"\"}, \"colorscale\": [[0.0, \"#0d0887\"], [0.1111111111111111, \"#46039f\"], [0.2222222222222222, \"#7201a8\"], [0.3333333333333333, \"#9c179e\"], [0.4444444444444444, \"#bd3786\"], [0.5555555555555556, \"#d8576b\"], [0.6666666666666666, \"#ed7953\"], [0.7777777777777778, \"#fb9f3a\"], [0.8888888888888888, \"#fdca26\"], [1.0, \"#f0f921\"]], \"type\": \"surface\"}], \"table\": [{\"cells\": {\"fill\": {\"color\": \"#EBF0F8\"}, \"line\": {\"color\": \"white\"}}, \"header\": {\"fill\": {\"color\": \"#C8D4E3\"}, \"line\": {\"color\": \"white\"}}, \"type\": \"table\"}]}, \"layout\": {\"annotationdefaults\": {\"arrowcolor\": \"#2a3f5f\", \"arrowhead\": 0, \"arrowwidth\": 1}, \"coloraxis\": {\"colorbar\": {\"outlinewidth\": 0, \"ticks\": \"\"}}, \"colorscale\": {\"diverging\": [[0, \"#8e0152\"], [0.1, \"#c51b7d\"], [0.2, \"#de77ae\"], [0.3, \"#f1b6da\"], [0.4, \"#fde0ef\"], [0.5, \"#f7f7f7\"], [0.6, \"#e6f5d0\"], [0.7, \"#b8e186\"], [0.8, \"#7fbc41\"], [0.9, \"#4d9221\"], [1, \"#276419\"]], \"sequential\": [[0.0, \"#0d0887\"], [0.1111111111111111, \"#46039f\"], [0.2222222222222222, \"#7201a8\"], [0.3333333333333333, \"#9c179e\"], [0.4444444444444444, \"#bd3786\"], [0.5555555555555556, \"#d8576b\"], [0.6666666666666666, \"#ed7953\"], [0.7777777777777778, \"#fb9f3a\"], [0.8888888888888888, \"#fdca26\"], [1.0, \"#f0f921\"]], \"sequentialminus\": [[0.0, \"#0d0887\"], [0.1111111111111111, \"#46039f\"], [0.2222222222222222, \"#7201a8\"], [0.3333333333333333, \"#9c179e\"], [0.4444444444444444, \"#bd3786\"], [0.5555555555555556, \"#d8576b\"], [0.6666666666666666, \"#ed7953\"], [0.7777777777777778, \"#fb9f3a\"], [0.8888888888888888, \"#fdca26\"], [1.0, \"#f0f921\"]]}, \"colorway\": [\"#636efa\", \"#EF553B\", \"#00cc96\", \"#ab63fa\", \"#FFA15A\", \"#19d3f3\", \"#FF6692\", \"#B6E880\", \"#FF97FF\", \"#FECB52\"], \"font\": {\"color\": \"#2a3f5f\"}, \"geo\": {\"bgcolor\": \"white\", \"lakecolor\": \"white\", \"landcolor\": \"#E5ECF6\", \"showlakes\": true, \"showland\": true, \"subunitcolor\": \"white\"}, \"hoverlabel\": {\"align\": \"left\"}, \"hovermode\": \"closest\", \"mapbox\": {\"style\": \"light\"}, \"paper_bgcolor\": \"white\", \"plot_bgcolor\": \"#E5ECF6\", \"polar\": {\"angularaxis\": {\"gridcolor\": \"white\", \"linecolor\": \"white\", \"ticks\": \"\"}, \"bgcolor\": \"#E5ECF6\", \"radialaxis\": {\"gridcolor\": \"white\", \"linecolor\": \"white\", \"ticks\": \"\"}}, \"scene\": {\"xaxis\": {\"backgroundcolor\": \"#E5ECF6\", \"gridcolor\": \"white\", \"gridwidth\": 2, \"linecolor\": \"white\", \"showbackground\": true, \"ticks\": \"\", \"zerolinecolor\": \"white\"}, \"yaxis\": {\"backgroundcolor\": \"#E5ECF6\", \"gridcolor\": \"white\", \"gridwidth\": 2, \"linecolor\": \"white\", \"showbackground\": true, \"ticks\": \"\", \"zerolinecolor\": \"white\"}, \"zaxis\": {\"backgroundcolor\": \"#E5ECF6\", \"gridcolor\": \"white\", \"gridwidth\": 2, \"linecolor\": \"white\", \"showbackground\": true, \"ticks\": \"\", \"zerolinecolor\": \"white\"}}, \"shapedefaults\": {\"line\": {\"color\": \"#2a3f5f\"}}, \"ternary\": {\"aaxis\": {\"gridcolor\": \"white\", \"linecolor\": \"white\", \"ticks\": \"\"}, \"baxis\": {\"gridcolor\": \"white\", \"linecolor\": \"white\", \"ticks\": \"\"}, \"bgcolor\": \"#E5ECF6\", \"caxis\": {\"gridcolor\": \"white\", \"linecolor\": \"white\", \"ticks\": \"\"}}, \"title\": {\"x\": 0.05}, \"xaxis\": {\"automargin\": true, \"gridcolor\": \"white\", \"linecolor\": \"white\", \"ticks\": \"\", \"title\": {\"standoff\": 15}, \"zerolinecolor\": \"white\", \"zerolinewidth\": 2}, \"yaxis\": {\"automargin\": true, \"gridcolor\": \"white\", \"linecolor\": \"white\", \"ticks\": \"\", \"title\": {\"standoff\": 15}, \"zerolinecolor\": \"white\", \"zerolinewidth\": 2}}}},\n",
              "                        {\"responsive\": true}\n",
              "                    ).then(function(){\n",
              "                            \n",
              "var gd = document.getElementById('1fa0f8b7-3a69-4da9-b252-aab8b0f544e1');\n",
              "var x = new MutationObserver(function (mutations, observer) {{\n",
              "        var display = window.getComputedStyle(gd).display;\n",
              "        if (!display || display === 'none') {{\n",
              "            console.log([gd, 'removed!']);\n",
              "            Plotly.purge(gd);\n",
              "            observer.disconnect();\n",
              "        }}\n",
              "}});\n",
              "\n",
              "// Listen for the removal of the full notebook cells\n",
              "var notebookContainer = gd.closest('#notebook-container');\n",
              "if (notebookContainer) {{\n",
              "    x.observe(notebookContainer, {childList: true});\n",
              "}}\n",
              "\n",
              "// Listen for the clearing of the current output cell\n",
              "var outputEl = gd.closest('.output');\n",
              "if (outputEl) {{\n",
              "    x.observe(outputEl, {childList: true});\n",
              "}}\n",
              "\n",
              "                        })\n",
              "                };\n",
              "                \n",
              "            </script>\n",
              "        </div>\n",
              "</body>\n",
              "</html>"
            ]
          },
          "metadata": {}
        }
      ]
    }
  ]
}